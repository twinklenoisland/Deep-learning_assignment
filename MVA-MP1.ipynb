{
 "cells": [
  {
   "cell_type": "markdown",
   "metadata": {},
   "source": [
    "   ## Simple classification"
   ]
  },
  {
   "cell_type": "markdown",
   "metadata": {},
   "source": [
    "Generate a training set of images of simple geometric shapes"
   ]
  },
  {
   "cell_type": "code",
   "execution_count": 1,
   "metadata": {},
   "outputs": [
    {
     "name": "stdout",
     "output_type": "stream",
     "text": [
      "Creating data:\n",
      "0\n",
      "10\n",
      "20\n",
      "30\n",
      "40\n",
      "50\n",
      "60\n",
      "70\n",
      "80\n",
      "90\n",
      "100\n",
      "110\n",
      "120\n",
      "130\n",
      "140\n",
      "150\n",
      "160\n",
      "170\n",
      "180\n",
      "190\n",
      "200\n",
      "210\n",
      "220\n",
      "230\n",
      "240\n",
      "250\n",
      "260\n",
      "270\n",
      "280\n",
      "290\n"
     ]
    },
    {
     "data": {
      "image/png": "[encoded data removed]",
      "text/plain": [
       "<Figure size 432x288 with 1 Axes>"
      ]
     },
     "metadata": {
      "needs_background": "light"
     },
     "output_type": "display_data"
    }
   ],
   "source": [
    "from mp1 import *\n",
    "[X_train, Y_train] = generate_dataset_classification(300, 20)"
   ]
  },
  {
   "cell_type": "code",
   "execution_count": 2,
   "metadata": {},
   "outputs": [
    {
     "name": "stderr",
     "output_type": "stream",
     "text": [
      "Using TensorFlow backend.\n"
     ]
    }
   ],
   "source": [
    "# transform Y_train\n",
    "from keras.utils import to_categorical\n",
    "Y_train = to_categorical(Y_train)"
   ]
  },
  {
   "cell_type": "markdown",
   "metadata": {},
   "source": [
    "### Stochastic gradient descent optimizer"
   ]
  },
  {
   "cell_type": "code",
   "execution_count": 3,
   "metadata": {},
   "outputs": [
    {
     "name": "stdout",
     "output_type": "stream",
     "text": [
      "Epoch 1/10\n",
      "300/300 [==============================] - 1s 4ms/step - loss: 9.9110\n",
      "Epoch 2/10\n",
      "300/300 [==============================] - 0s 156us/step - loss: 11.3364\n",
      "Epoch 3/10\n",
      "300/300 [==============================] - 0s 186us/step - loss: 11.3364\n",
      "Epoch 4/10\n",
      "300/300 [==============================] - 0s 136us/step - loss: 11.3364\n",
      "Epoch 5/10\n",
      "300/300 [==============================] - 0s 123us/step - loss: 11.3364\n",
      "Epoch 6/10\n",
      "300/300 [==============================] - 0s 180us/step - loss: 11.3364\n",
      "Epoch 7/10\n",
      "300/300 [==============================] - 0s 130us/step - loss: 11.3364\n",
      "Epoch 8/10\n",
      "300/300 [==============================] - 0s 143us/step - loss: 11.3364\n",
      "Epoch 9/10\n",
      "300/300 [==============================] - 0s 126us/step - loss: 11.3364\n",
      "Epoch 10/10\n",
      "300/300 [==============================] - 0s 173us/step - loss: 11.3364\n"
     ]
    },
    {
     "data": {
      "text/plain": [
       "<keras.callbacks.History at 0x1883c5ca550>"
      ]
     },
     "execution_count": 3,
     "metadata": {},
     "output_type": "execute_result"
    }
   ],
   "source": [
    "from keras.models import Sequential\n",
    "from keras.layers import Dense, Activation\n",
    "from keras.optimizers import SGD\n",
    "\n",
    "# create model\n",
    "n_col = X_train.shape[1]\n",
    "model = Sequential()\n",
    "model.add(Dense(3,activation='softmax',input_shape=(n_col,)))\n",
    "# Use stochastic gradient descent optimizer\n",
    "sgd = SGD(lr=0.01,decay=1e-6, momentum=0.9,nesterov=True)\n",
    "model.compile(loss='categorical_crossentropy',optimizer=sgd)\n",
    "model.fit(X_train, Y_train, epochs=10, batch_size=32)"
   ]
  },
  {
   "cell_type": "code",
   "execution_count": 4,
   "metadata": {},
   "outputs": [
    {
     "data": {
      "text/plain": [
       "array([[0., 0., 1.]], dtype=float32)"
      ]
     },
     "execution_count": 4,
     "metadata": {},
     "output_type": "execute_result"
    },
    {
     "data": {
      "image/png": "[encoded data removed]",
      "text/plain": [
       "<Figure size 432x288 with 1 Axes>"
      ]
     },
     "metadata": {
      "needs_background": "light"
     },
     "output_type": "display_data"
    }
   ],
   "source": [
    "# check classifier\n",
    "X_test = generate_a_rectangle()\n",
    "plt.imshow(X_test.reshape(72,72), cmap='gray')\n",
    "X_test = X_test.reshape(1, X_test.shape[0])\n",
    "model.predict(X_test)"
   ]
  },
  {
   "cell_type": "markdown",
   "metadata": {},
   "source": [
    "### Adam optimizer"
   ]
  },
  {
   "cell_type": "code",
   "execution_count": 5,
   "metadata": {},
   "outputs": [
    {
     "name": "stdout",
     "output_type": "stream",
     "text": [
      "Epoch 1/10\n",
      "300/300 [==============================] - 0s 824us/step - loss: 1.8695\n",
      "Epoch 2/10\n",
      "300/300 [==============================] - 0s 193us/step - loss: 1.0136\n",
      "Epoch 3/10\n",
      "300/300 [==============================] - 0s 166us/step - loss: 0.6728\n",
      "Epoch 4/10\n",
      "300/300 [==============================] - 0s 136us/step - loss: 0.4632\n",
      "Epoch 5/10\n",
      "300/300 [==============================] - 0s 146us/step - loss: 0.3273\n",
      "Epoch 6/10\n",
      "300/300 [==============================] - 0s 170us/step - loss: 0.2639\n",
      "Epoch 7/10\n",
      "300/300 [==============================] - 0s 120us/step - loss: 0.2245\n",
      "Epoch 8/10\n",
      "300/300 [==============================] - 0s 170us/step - loss: 0.2543\n",
      "Epoch 9/10\n",
      "300/300 [==============================] - 0s 150us/step - loss: 0.1909\n",
      "Epoch 10/10\n",
      "300/300 [==============================] - 0s 126us/step - loss: 0.2413\n"
     ]
    },
    {
     "data": {
      "text/plain": [
       "<keras.callbacks.History at 0x1883c9592e8>"
      ]
     },
     "execution_count": 5,
     "metadata": {},
     "output_type": "execute_result"
    }
   ],
   "source": [
    "# create model\n",
    "n_col = X_train.shape[1]\n",
    "model2 = Sequential()\n",
    "model2.add(Dense(3,activation='softmax',input_shape=(n_col,)))\n",
    "# Use Adam optimizer\n",
    "model2.compile(loss='categorical_crossentropy',optimizer='adam')\n",
    "model2.fit(X_train, Y_train, epochs=10, batch_size=32)"
   ]
  },
  {
   "cell_type": "code",
   "execution_count": 6,
   "metadata": {},
   "outputs": [
    {
     "data": {
      "text/plain": [
       "array([[1., 0., 0.]], dtype=float32)"
      ]
     },
     "execution_count": 6,
     "metadata": {},
     "output_type": "execute_result"
    },
    {
     "data": {
      "image/png": "[encoded data removed]",
      "text/plain": [
       "<Figure size 432x288 with 1 Axes>"
      ]
     },
     "metadata": {
      "needs_background": "light"
     },
     "output_type": "display_data"
    }
   ],
   "source": [
    "# check classifier\n",
    "X_test2 = generate_a_disk()\n",
    "plt.imshow(X_test.reshape(72,72), cmap='gray')\n",
    "X_test2 = X_test2.reshape(1, X_test2.shape[0])\n",
    "model2.predict(X_test)"
   ]
  },
  {
   "cell_type": "markdown",
   "metadata": {},
   "source": [
    "## Visualization of the Solution"
   ]
  },
  {
   "cell_type": "code",
   "execution_count": 7,
   "metadata": {},
   "outputs": [],
   "source": [
    "[W1, W2] = model2.get_weights()\n",
    "w10 = W1[:,0]\n",
    "w11 = W1[:,1]\n",
    "w12 = W1[:,2]"
   ]
  },
  {
   "cell_type": "code",
   "execution_count": 8,
   "metadata": {},
   "outputs": [
    {
     "data": {
      "text/plain": [
       "<matplotlib.image.AxesImage at 0x1883cd68908>"
      ]
     },
     "execution_count": 8,
     "metadata": {},
     "output_type": "execute_result"
    },
    {
     "data": {
      "image/png": "[encoded data removed]",
      "text/plain": [
       "<Figure size 432x288 with 1 Axes>"
      ]
     },
     "metadata": {
      "needs_background": "light"
     },
     "output_type": "display_data"
    }
   ],
   "source": [
    "plt.imshow(w10.reshape(72,72), cmap='gray')"
   ]
  },
  {
   "cell_type": "code",
   "execution_count": 9,
   "metadata": {},
   "outputs": [
    {
     "data": {
      "text/plain": [
       "<matplotlib.image.AxesImage at 0x1883cdbdda0>"
      ]
     },
     "execution_count": 9,
     "metadata": {},
     "output_type": "execute_result"
    },
    {
     "data": {
      "image/png": "[encoded data removed]",
      "text/plain": [
       "<Figure size 432x288 with 1 Axes>"
      ]
     },
     "metadata": {
      "needs_background": "light"
     },
     "output_type": "display_data"
    }
   ],
   "source": [
    "plt.imshow(w11.reshape(72,72), cmap='gray')"
   ]
  },
  {
   "cell_type": "code",
   "execution_count": 10,
   "metadata": {},
   "outputs": [
    {
     "data": {
      "text/plain": [
       "<matplotlib.image.AxesImage at 0x1883ce1e470>"
      ]
     },
     "execution_count": 10,
     "metadata": {},
     "output_type": "execute_result"
    },
    {
     "data": {
      "image/png": "[encoded data removed]",
      "text/plain": [
       "<Figure size 432x288 with 1 Axes>"
      ]
     },
     "metadata": {
      "needs_background": "light"
     },
     "output_type": "display_data"
    }
   ],
   "source": [
    "plt.imshow(w12.reshape(72,72), cmap='gray')"
   ]
  },
  {
   "cell_type": "code",
   "execution_count": 11,
   "metadata": {},
   "outputs": [],
   "source": [
    "weights = model2.get_weights()"
   ]
  },
  {
   "cell_type": "markdown",
   "metadata": {},
   "source": [
    "## A More Difficult Classification Problem"
   ]
  },
  {
   "cell_type": "markdown",
   "metadata": {},
   "source": [
    "### Retrain linear classifier"
   ]
  },
  {
   "cell_type": "code",
   "execution_count": 19,
   "metadata": {
    "collapsed": true
   },
   "outputs": [
    {
     "name": "stdout",
     "output_type": "stream",
     "text": [
      "Creating data:\n",
      "0\n",
      "10\n",
      "20\n",
      "30\n",
      "40\n",
      "50\n",
      "60\n",
      "70\n",
      "80\n",
      "90\n",
      "100\n",
      "110\n",
      "120\n",
      "130\n",
      "140\n",
      "150\n",
      "160\n",
      "170\n",
      "180\n",
      "190\n",
      "200\n",
      "210\n",
      "220\n",
      "230\n",
      "240\n",
      "250\n",
      "260\n",
      "270\n",
      "280\n",
      "290\n"
     ]
    }
   ],
   "source": [
    "[X_train, Y_train] = generate_dataset_classification(300, 20, True)"
   ]
  },
  {
   "cell_type": "code",
   "execution_count": 18,
   "metadata": {
    "collapsed": true
   },
   "outputs": [
    {
     "name": "stdout",
     "output_type": "stream",
     "text": [
      "Creating data:\n",
      "0\n",
      "10\n",
      "20\n",
      "30\n",
      "40\n",
      "50\n",
      "60\n",
      "70\n",
      "80\n",
      "90\n",
      "100\n",
      "110\n",
      "120\n",
      "130\n",
      "140\n",
      "150\n",
      "160\n",
      "170\n",
      "180\n",
      "190\n",
      "200\n",
      "210\n",
      "220\n",
      "230\n",
      "240\n",
      "250\n",
      "260\n",
      "270\n",
      "280\n",
      "290\n"
     ]
    }
   ],
   "source": [
    "np.random.seed(42)\n",
    "[X_test, Y_test] = generate_dataset_classification(300, 20, True)"
   ]
  },
  {
   "cell_type": "code",
   "execution_count": 22,
   "metadata": {},
   "outputs": [],
   "source": [
    "Y_test = to_categorical(Y_test)"
   ]
  },
  {
   "cell_type": "code",
   "execution_count": 20,
   "metadata": {},
   "outputs": [
    {
     "name": "stdout",
     "output_type": "stream",
     "text": [
      "Epoch 1/10\n",
      "300/300 [==============================] - 0s 602us/step - loss: 2.4072\n",
      "Epoch 2/10\n",
      "300/300 [==============================] - 0s 146us/step - loss: 1.5236\n",
      "Epoch 3/10\n",
      "300/300 [==============================] - 0s 120us/step - loss: 1.0798\n",
      "Epoch 4/10\n",
      "300/300 [==============================] - 0s 156us/step - loss: 1.0146\n",
      "Epoch 5/10\n",
      "300/300 [==============================] - 0s 133us/step - loss: 1.0556\n",
      "Epoch 6/10\n",
      "300/300 [==============================] - 0s 143us/step - loss: 0.9504\n",
      "Epoch 7/10\n",
      "300/300 [==============================] - ETA: 0s - loss: 1.078 - 0s 130us/step - loss: 0.9314\n",
      "Epoch 8/10\n",
      "300/300 [==============================] - 0s 143us/step - loss: 0.8999\n",
      "Epoch 9/10\n",
      "300/300 [==============================] - 0s 163us/step - loss: 1.0134\n",
      "Epoch 10/10\n",
      "300/300 [==============================] - 0s 130us/step - loss: 0.9379\n"
     ]
    },
    {
     "data": {
      "text/plain": [
       "<keras.callbacks.History at 0x1ae03aeb668>"
      ]
     },
     "execution_count": 20,
     "metadata": {},
     "output_type": "execute_result"
    }
   ],
   "source": [
    "#Retrain linear classifier\n",
    "Y_train = to_categorical(Y_train)\n",
    "# create model\n",
    "n_col = X_train.shape[1]\n",
    "model2 = Sequential()\n",
    "model2.add(Dense(3,activation='softmax',input_shape=(n_col,)))\n",
    "# Use Adam optimizer\n",
    "model2.compile(loss='categorical_crossentropy',optimizer='adam')\n",
    "model2.fit(X_train, Y_train, epochs=10, batch_size=32)"
   ]
  },
  {
   "cell_type": "code",
   "execution_count": 23,
   "metadata": {},
   "outputs": [
    {
     "name": "stdout",
     "output_type": "stream",
     "text": [
      "300/300 [==============================] - 0s 226us/step\n"
     ]
    },
    {
     "data": {
      "text/plain": [
       "10.799123980204264"
      ]
     },
     "execution_count": 23,
     "metadata": {},
     "output_type": "execute_result"
    }
   ],
   "source": [
    "# evaluate classifier\n",
    "model.evaluate(X_test, Y_test)"
   ]
  },
  {
   "cell_type": "markdown",
   "metadata": {},
   "source": [
    "### Train a CNN"
   ]
  },
  {
   "cell_type": "code",
   "execution_count": 24,
   "metadata": {
    "collapsed": true
   },
   "outputs": [
    {
     "name": "stdout",
     "output_type": "stream",
     "text": [
      "Creating data:\n",
      "0\n",
      "10\n",
      "20\n",
      "30\n",
      "40\n",
      "50\n",
      "60\n",
      "70\n",
      "80\n",
      "90\n",
      "100\n",
      "110\n",
      "120\n",
      "130\n",
      "140\n",
      "150\n",
      "160\n",
      "170\n",
      "180\n",
      "190\n",
      "200\n",
      "210\n",
      "220\n",
      "230\n",
      "240\n",
      "250\n",
      "260\n",
      "270\n",
      "280\n",
      "290\n",
      "Creating data:\n",
      "0\n",
      "10\n",
      "20\n",
      "30\n",
      "40\n",
      "50\n",
      "60\n",
      "70\n",
      "80\n",
      "90\n",
      "100\n",
      "110\n",
      "120\n",
      "130\n",
      "140\n",
      "150\n",
      "160\n",
      "170\n",
      "180\n",
      "190\n",
      "200\n",
      "210\n",
      "220\n",
      "230\n",
      "240\n",
      "250\n",
      "260\n",
      "270\n",
      "280\n",
      "290\n"
     ]
    }
   ],
   "source": [
    "[X_train, Y_train] = generate_dataset_classification(300, 20, True);\n",
    "Y_train = to_categorical(Y_train)\n",
    "np.random.seed(42)\n",
    "[X_test, Y_test] = generate_dataset_classification(300, 20, True);\n",
    "Y_test = to_categorical(Y_test)"
   ]
  },
  {
   "cell_type": "code",
   "execution_count": 26,
   "metadata": {},
   "outputs": [],
   "source": [
    "X_train = X_train.reshape(X_train.shape[0], 72, 72, 1)\n",
    "X_train = X_train.astype('float32')\n",
    "X_test = X_test.reshape(X_test.shape[0], 72, 72, 1)\n",
    "X_test = X_test.astype('float32')"
   ]
  },
  {
   "cell_type": "code",
   "execution_count": 27,
   "metadata": {},
   "outputs": [
    {
     "name": "stdout",
     "output_type": "stream",
     "text": [
      "(None, 68, 68, 16)\n",
      "(None, 34, 34, 16)\n",
      "(None, 34, 34, 16)\n"
     ]
    }
   ],
   "source": [
    "# create the model\n",
    "from keras.models import Sequential\n",
    "from keras.layers import Conv2D, MaxPooling2D\n",
    "model = Sequential()\n",
    "model.add(Conv2D(16, (5, 5), activation='relu', input_shape=(72, 72, 1)))\n",
    "print(model.output_shape)\n",
    "model.add(MaxPooling2D(pool_size=(2, 2)))\n",
    "print(model.output_shape)\n",
    "from keras.layers import Dropout\n",
    "model.add(Dropout(0.25))\n",
    "print(model.output_shape)"
   ]
  },
  {
   "cell_type": "code",
   "execution_count": 28,
   "metadata": {},
   "outputs": [
    {
     "name": "stdout",
     "output_type": "stream",
     "text": [
      "(None, 18496)\n"
     ]
    }
   ],
   "source": [
    "from keras.layers import Flatten\n",
    "model.add(Flatten())\n",
    "print(model.output_shape)"
   ]
  },
  {
   "cell_type": "code",
   "execution_count": 29,
   "metadata": {},
   "outputs": [
    {
     "name": "stdout",
     "output_type": "stream",
     "text": [
      "(None, 144)\n",
      "(None, 3)\n"
     ]
    }
   ],
   "source": [
    "from keras.layers import Dense\n",
    "model.add(Dense(144, activation='relu'))\n",
    "print(model.output_shape)\n",
    "model.add(Dropout(0.5))\n",
    "model.add(Dense(3, activation='softmax'))\n",
    "print(model.output_shape)"
   ]
  },
  {
   "cell_type": "code",
   "execution_count": 31,
   "metadata": {},
   "outputs": [
    {
     "name": "stdout",
     "output_type": "stream",
     "text": [
      "Epoch 1/15\n",
      "300/300 [==============================] - 2s 6ms/step - loss: 0.2399 - acc: 0.9167\n",
      "Epoch 2/15\n",
      "300/300 [==============================] - 1s 5ms/step - loss: 0.2186 - acc: 0.9367\n",
      "Epoch 3/15\n",
      "300/300 [==============================] - 1s 5ms/step - loss: 0.1457 - acc: 0.9567\n",
      "Epoch 4/15\n",
      "300/300 [==============================] - 2s 5ms/step - loss: 0.1181 - acc: 0.9733\n",
      "Epoch 5/15\n",
      "300/300 [==============================] - 1s 5ms/step - loss: 0.0914 - acc: 0.9833\n",
      "Epoch 6/15\n",
      "300/300 [==============================] - 1s 4ms/step - loss: 0.0674 - acc: 0.9867\n",
      "Epoch 7/15\n",
      "300/300 [==============================] - 2s 5ms/step - loss: 0.0581 - acc: 0.9967\n",
      "Epoch 8/15\n",
      "300/300 [==============================] - 1s 4ms/step - loss: 0.0351 - acc: 1.0000\n",
      "Epoch 9/15\n",
      "300/300 [==============================] - 1s 4ms/step - loss: 0.0392 - acc: 0.9900\n",
      "Epoch 10/15\n",
      "300/300 [==============================] - 1s 4ms/step - loss: 0.0247 - acc: 1.0000\n",
      "Epoch 11/15\n",
      "300/300 [==============================] - 1s 4ms/step - loss: 0.0343 - acc: 0.9933\n",
      "Epoch 12/15\n",
      "300/300 [==============================] - 1s 4ms/step - loss: 0.0167 - acc: 1.0000\n",
      "Epoch 13/15\n",
      "300/300 [==============================] - 1s 4ms/step - loss: 0.0234 - acc: 0.9967\n",
      "Epoch 14/15\n",
      "300/300 [==============================] - 2s 5ms/step - loss: 0.0173 - acc: 0.9967\n",
      "Epoch 15/15\n",
      "300/300 [==============================] - 2s 6ms/step - loss: 0.0118 - acc: 1.0000\n"
     ]
    },
    {
     "data": {
      "text/plain": [
       "<keras.callbacks.History at 0x1ae0a6e1e80>"
      ]
     },
     "execution_count": 31,
     "metadata": {},
     "output_type": "execute_result"
    }
   ],
   "source": [
    "model.compile(loss='categorical_crossentropy',optimizer='adam',metrics=['accuracy'])\n",
    "model.fit(X_train, Y_train,batch_size=32, epochs=15, verbose=1)"
   ]
  },
  {
   "cell_type": "code",
   "execution_count": 33,
   "metadata": {},
   "outputs": [
    {
     "name": "stdout",
     "output_type": "stream",
     "text": [
      "300/300 [==============================] - 1s 2ms/step\n"
     ]
    }
   ],
   "source": [
    "loss,accuracy = model.evaluate(X_test, Y_test)"
   ]
  },
  {
   "cell_type": "code",
   "execution_count": 35,
   "metadata": {},
   "outputs": [
    {
     "name": "stdout",
     "output_type": "stream",
     "text": [
      "The loss is: 0.9262210345268249\n",
      "The accuracy is: 0.7299999992052714\n"
     ]
    }
   ],
   "source": [
    "print(\"The loss is: {}\".format(loss))\n",
    "print(\"The accuracy is: {}\".format(accuracy))"
   ]
  },
  {
   "cell_type": "markdown",
   "metadata": {},
   "source": [
    "## Regression problem"
   ]
  },
  {
   "cell_type": "code",
   "execution_count": 36,
   "metadata": {
    "collapsed": true
   },
   "outputs": [
    {
     "name": "stdout",
     "output_type": "stream",
     "text": [
      "Creating data:\n",
      "0\n",
      "10\n",
      "20\n",
      "30\n",
      "40\n",
      "50\n",
      "60\n",
      "70\n",
      "80\n",
      "90\n",
      "100\n",
      "110\n",
      "120\n",
      "130\n",
      "140\n",
      "150\n",
      "160\n",
      "170\n",
      "180\n",
      "190\n",
      "200\n",
      "210\n",
      "220\n",
      "230\n",
      "240\n",
      "250\n",
      "260\n",
      "270\n",
      "280\n",
      "290\n"
     ]
    }
   ],
   "source": [
    "[X_train, Y_train] = generate_dataset_regression(300, 20)"
   ]
  },
  {
   "cell_type": "code",
   "execution_count": 57,
   "metadata": {},
   "outputs": [
    {
     "data": {
      "image/png": "[encoded data removed]",
      "text/plain": [
       "<Figure size 360x360 with 1 Axes>"
      ]
     },
     "metadata": {
      "needs_background": "light"
     },
     "output_type": "display_data"
    }
   ],
   "source": [
    "visualize_prediction(X_train[1], Y_train[1])"
   ]
  },
  {
   "cell_type": "code",
   "execution_count": 38,
   "metadata": {
    "collapsed": true
   },
   "outputs": [
    {
     "name": "stdout",
     "output_type": "stream",
     "text": [
      "Creating data:\n",
      "0\n",
      "10\n",
      "20\n",
      "30\n",
      "40\n",
      "50\n",
      "60\n",
      "70\n",
      "80\n",
      "90\n",
      "100\n",
      "110\n",
      "120\n",
      "130\n",
      "140\n",
      "150\n",
      "160\n",
      "170\n",
      "180\n",
      "190\n",
      "200\n",
      "210\n",
      "220\n",
      "230\n",
      "240\n",
      "250\n",
      "260\n",
      "270\n",
      "280\n",
      "290\n"
     ]
    }
   ],
   "source": [
    "[X_test, Y_test] = generate_test_set_regression()"
   ]
  },
  {
   "cell_type": "code",
   "execution_count": 48,
   "metadata": {},
   "outputs": [],
   "source": [
    "X_train = X_train.reshape(X_train.shape[0], 72, 72, 1)\n",
    "X_train = X_train.astype('float32')\n",
    "X_test = X_test.reshape(X_test.shape[0], 72, 72, 1)\n",
    "X_test = X_test.astype('float32')"
   ]
  },
  {
   "cell_type": "code",
   "execution_count": 83,
   "metadata": {},
   "outputs": [],
   "source": [
    "import math\n",
    "def normal_triangle(Y):\n",
    "    \n",
    "    G = [(Y[0]+Y[2]+Y[4])/3.0, (Y[1]+Y[3]+Y[5])/3.0]\n",
    "    \n",
    "    p =[[Y[0],Y[1], math.sqrt(Y[0]**2 + Y[1]**2)],\n",
    "        [Y[2],Y[3], math.sqrt(Y[2]**2 + Y[3]**2)],\n",
    "        [Y[4],Y[5], math.sqrt(Y[4]**2 + Y[5]**2)]]\n",
    "    \n",
    "    p.sort(key=lambda x:x[2])\n",
    "        \n",
    "    y = np.array([p[0][0], p[0][1], p[1][0], p[1][1], p[2][0], p[2][1]])\n",
    "    return y"
   ]
  },
  {
   "cell_type": "code",
   "execution_count": 84,
   "metadata": {},
   "outputs": [],
   "source": [
    "y_train = np.zeros([X_train.shape[0], 6])\n",
    "y_test = np.zeros([X_test.shape[0], 6])\n",
    "for i in range(X_train.shape[0]):\n",
    "    y_train[i] = normal_triangle(Y_train[i])\n",
    "for i in range(X_test.shape[0]):\n",
    "    y_test[i] = normal_triangle(Y_test[i])"
   ]
  },
  {
   "cell_type": "code",
   "execution_count": 97,
   "metadata": {},
   "outputs": [],
   "source": [
    "# create the model\n",
    "model = Sequential()\n",
    "model.add(Conv2D(32,(3, 3), activation=\"relu\", input_shape=(72, 72, 1)))\n",
    "model.add(MaxPooling2D(pool_size=(2, 2)))\n",
    "model.add(Conv2D(32, (3, 3), activation=\"relu\"))\n",
    "model.add(MaxPooling2D(pool_size=(2, 2)))\n",
    "model.add(Flatten())\n",
    "model.add(Dense(256, activation='relu'))\n",
    "model.add(Dense(256, activation='relu'))\n",
    "model.add(Dense(128, activation='relu'))\n",
    "model.add(Dense(128, activation='relu'))\n",
    "model.add(Dense(6))"
   ]
  },
  {
   "cell_type": "code",
   "execution_count": 108,
   "metadata": {},
   "outputs": [
    {
     "name": "stdout",
     "output_type": "stream",
     "text": [
      "Train on 300 samples, validate on 300 samples\n",
      "Epoch 1/14\n",
      "300/300 [==============================] - 4s 13ms/step - loss: 0.0788 - acc: 0.5367 - val_loss: 0.0521 - val_acc: 0.4667\n",
      "Epoch 2/14\n",
      "300/300 [==============================] - 2s 8ms/step - loss: 0.0268 - acc: 0.6667 - val_loss: 0.0378 - val_acc: 0.6533\n",
      "Epoch 3/14\n",
      "300/300 [==============================] - 2s 7ms/step - loss: 0.0154 - acc: 0.7033 - val_loss: 0.0357 - val_acc: 0.6133\n",
      "Epoch 4/14\n",
      "300/300 [==============================] - 2s 8ms/step - loss: 0.0091 - acc: 0.7800 - val_loss: 0.0346 - val_acc: 0.6367\n",
      "Epoch 5/14\n",
      "300/300 [==============================] - 2s 8ms/step - loss: 0.0058 - acc: 0.7833 - val_loss: 0.0326 - val_acc: 0.6333\n",
      "Epoch 6/14\n",
      "300/300 [==============================] - 2s 8ms/step - loss: 0.0039 - acc: 0.8200 - val_loss: 0.0320 - val_acc: 0.6400\n",
      "Epoch 7/14\n",
      "300/300 [==============================] - 3s 8ms/step - loss: 0.0028 - acc: 0.8400 - val_loss: 0.0320 - val_acc: 0.6300\n",
      "Epoch 8/14\n",
      "300/300 [==============================] - 3s 9ms/step - loss: 0.0023 - acc: 0.8833 - val_loss: 0.0314 - val_acc: 0.6267\n",
      "Epoch 9/14\n",
      "300/300 [==============================] - 2s 8ms/step - loss: 0.0017 - acc: 0.8500 - val_loss: 0.0314 - val_acc: 0.6567\n",
      "Epoch 10/14\n",
      "300/300 [==============================] - 2s 8ms/step - loss: 0.0012 - acc: 0.8867 - val_loss: 0.0310 - val_acc: 0.6767\n",
      "Epoch 11/14\n",
      "300/300 [==============================] - 2s 8ms/step - loss: 9.1470e-04 - acc: 0.8933 - val_loss: 0.0309 - val_acc: 0.6733\n",
      "Epoch 12/14\n",
      "300/300 [==============================] - 2s 8ms/step - loss: 7.6526e-04 - acc: 0.9133 - val_loss: 0.0312 - val_acc: 0.6533\n",
      "Epoch 13/14\n",
      "300/300 [==============================] - 2s 8ms/step - loss: 6.6826e-04 - acc: 0.9000 - val_loss: 0.0307 - val_acc: 0.6700\n",
      "Epoch 14/14\n",
      "300/300 [==============================] - 3s 9ms/step - loss: 5.7004e-04 - acc: 0.9167 - val_loss: 0.0307 - val_acc: 0.6700\n"
     ]
    },
    {
     "data": {
      "text/plain": [
       "<keras.callbacks.History at 0x1ae082a5ac8>"
      ]
     },
     "execution_count": 108,
     "metadata": {},
     "output_type": "execute_result"
    }
   ],
   "source": [
    "model.compile(optimizer='adam', loss='mse', metrics=['accuracy'])\n",
    "model.fit(X_train, y_train, batch_size=32,epochs=14,validation_data=(X_test, y_test))"
   ]
  },
  {
   "cell_type": "code",
   "execution_count": 109,
   "metadata": {},
   "outputs": [],
   "source": [
    "Y_pred = model.predict(X_test, batch_size=32)"
   ]
  },
  {
   "cell_type": "code",
   "execution_count": 110,
   "metadata": {},
   "outputs": [
    {
     "name": "stdout",
     "output_type": "stream",
     "text": [
      "300/300 [==============================] - 1s 2ms/step\n",
      "The loss is: 0.030669022500514984\n",
      "The accuracy is: 0.6699999996026357\n"
     ]
    }
   ],
   "source": [
    "loss,accuracy = model.evaluate(X_test, y_test)\n",
    "print(\"The loss is: {}\".format(loss))\n",
    "print(\"The accuracy is: {}\".format(accuracy))"
   ]
  },
  {
   "cell_type": "markdown",
   "metadata": {},
   "source": [
    "## Image denoising"
   ]
  },
  {
   "cell_type": "code",
   "execution_count": 1,
   "metadata": {},
   "outputs": [
    {
     "name": "stderr",
     "output_type": "stream",
     "text": [
      "Using TensorFlow backend.\n"
     ]
    }
   ],
   "source": [
    "import matplotlib.pyplot as plt\n",
    "get_ipython().run_line_magic('matplotlib', 'inline')\n",
    "import numpy as np\n",
    "from keras.layers import Input, Dense, Conv2D, MaxPooling2D, UpSampling2D, Activation\n",
    "from keras.models import Model\n",
    "import random"
   ]
  },
  {
   "cell_type": "markdown",
   "metadata": {},
   "source": [
    "### Redefine the function"
   ]
  },
  {
   "cell_type": "code",
   "execution_count": 2,
   "metadata": {},
   "outputs": [],
   "source": [
    "def generate_a_drawing(figsize, U, V, noise=0.0):\n",
    "    fig = plt.figure(figsize=(figsize,figsize))\n",
    "    ax = plt.subplot(111)\n",
    "    plt.axis('Off')\n",
    "    ax.set_xlim(0,figsize)\n",
    "    ax.set_ylim(0,figsize)\n",
    "    ax.fill(U, V, \"k\")\n",
    "    fig.canvas.draw()\n",
    "    imdata = np.frombuffer(fig.canvas.tostring_rgb(), dtype=np.uint8)[::3].astype(np.float32)\n",
    "    imdata = imdata + noise * np.random.random(imdata.size)\n",
    "    plt.close(fig)\n",
    "    return imdata"
   ]
  },
  {
   "cell_type": "code",
   "execution_count": 3,
   "metadata": {},
   "outputs": [],
   "source": [
    "def generate_a_rectangle(noise=0.0, free_location=False):\n",
    "    figsize = 1.0    \n",
    "    U = np.zeros(4)\n",
    "    V = np.zeros(4)\n",
    "    if free_location:\n",
    "        corners = np.random.random(4)\n",
    "        top = max(corners[0], corners[1])\n",
    "        bottom = min(corners[0], corners[1])\n",
    "        left = min(corners[2], corners[3])\n",
    "        right = max(corners[2], corners[3])\n",
    "    else:\n",
    "        side = (0.3 + 0.7 * np.random.random()) * figsize\n",
    "        top = figsize/2 + side/2\n",
    "        bottom = figsize/2 - side/2\n",
    "        left = bottom\n",
    "        right = top\n",
    "    U[0] = U[1] = top\n",
    "    U[2] = U[3] = bottom\n",
    "    V[0] = V[3] = left\n",
    "    V[1] = V[2] = right\n",
    "    x = generate_a_drawing(figsize, U, V, noise)\n",
    "    y = generate_a_drawing(figsize, U, V, 0)\n",
    "    return [x, y]"
   ]
  },
  {
   "cell_type": "code",
   "execution_count": 4,
   "metadata": {},
   "outputs": [],
   "source": [
    "def generate_a_disk(noise=0.0, free_location=False):\n",
    "    figsize = 1.0\n",
    "    if free_location:\n",
    "        center = np.random.random(2)\n",
    "    else:\n",
    "        center = (figsize/2, figsize/2)\n",
    "    radius = (0.3 + 0.7 * np.random.random()) * figsize/2\n",
    "    N = 50\n",
    "    U = np.zeros(N)\n",
    "    V = np.zeros(N)\n",
    "    i = 0\n",
    "    for t in np.linspace(0, 2*np.pi, N):\n",
    "        U[i] = center[0] + np.cos(t) * radius\n",
    "        V[i] = center[1] + np.sin(t) * radius\n",
    "        i = i + 1\n",
    "    x = generate_a_drawing(figsize, U, V, noise)\n",
    "    y = generate_a_drawing(figsize, U, V, 0)\n",
    "    return [x, y]"
   ]
  },
  {
   "cell_type": "code",
   "execution_count": 5,
   "metadata": {},
   "outputs": [],
   "source": [
    "def generate_a_triangle(noise=0.0, free_location=False):\n",
    "    figsize = 1.0\n",
    "    if free_location:\n",
    "        U = np.random.random(3)\n",
    "        V = np.random.random(3)\n",
    "    else:\n",
    "        size = (0.3 + 0.7 * np.random.random())*figsize/2\n",
    "        middle = figsize/2\n",
    "        U = (middle, middle+size, middle-size)\n",
    "        V = (middle+size, middle-size, middle-size)\n",
    "    x = generate_a_drawing(figsize, U, V, noise)\n",
    "    y = generate_a_drawing(figsize, U, V, 0)\n",
    "    return [x, y]"
   ]
  },
  {
   "cell_type": "code",
   "execution_count": 6,
   "metadata": {},
   "outputs": [],
   "source": [
    "def generate_dataset_denoising(nb_samples, free_location=False):\n",
    "    im1, im2 = generate_a_rectangle()\n",
    "    im_size = im1.shape[0]\n",
    "    X = np.zeros([nb_samples,im_size])\n",
    "    Y = np.zeros([nb_samples,im_size])\n",
    "    print('Creating data:')\n",
    "    for i in range(nb_samples):\n",
    "        if i % 10 == 0:\n",
    "            print(i, end=' ')\n",
    "        category = np.random.randint(3)\n",
    "        noise=np.random.randint(100)\n",
    "        if category == 0:\n",
    "            [X[i], Y[i]] = generate_a_rectangle(noise, free_location)\n",
    "        elif category == 1: \n",
    "            [X[i], Y[i]] = generate_a_disk(noise, free_location)\n",
    "        else:\n",
    "            [X[i], Y[i]] = generate_a_triangle(noise, free_location)\n",
    "    X = X / 255.0\n",
    "    Y = Y / 255.0\n",
    "    return [X, Y]"
   ]
  },
  {
   "cell_type": "code",
   "execution_count": 7,
   "metadata": {},
   "outputs": [],
   "source": [
    "def generate_test_set_denoising():\n",
    "    np.random.seed(42)\n",
    "    [X_test, Y_test] = generate_dataset_denoising(300, True)\n",
    "    return [X_test, Y_test]"
   ]
  },
  {
   "cell_type": "markdown",
   "metadata": {},
   "source": [
    "### Generate data"
   ]
  },
  {
   "cell_type": "code",
   "execution_count": 18,
   "metadata": {},
   "outputs": [
    {
     "name": "stdout",
     "output_type": "stream",
     "text": [
      "Creating data:\n",
      "0 10 20 30 40 50 60 70 80 90 100 110 120 130 140 150 160 170 180 190 200 210 220 230 240 250 260 270 280 290 300 310 320 330 340 350 360 370 380 390 400 410 420 430 440 450 460 470 480 490 500 510 520 530 540 550 560 570 580 590 Creating data:\n",
      "0 10 20 30 40 50 60 70 80 90 100 110 120 130 140 150 160 170 180 190 200 210 220 230 240 250 260 270 280 290 "
     ]
    }
   ],
   "source": [
    "[X_train_noise, X_train_clean] = generate_dataset_denoising(600, True)\n",
    "[X_test_noise, X_test_clean] = generate_test_set_denoising()"
   ]
  },
  {
   "cell_type": "code",
   "execution_count": 21,
   "metadata": {},
   "outputs": [],
   "source": [
    "x_train_clean = X_train_clean.reshape(len(X_train_clean), 72, 72, 1)\n",
    "x_train_noise = X_train_noise.reshape(len(X_train_noise), 72, 72, 1)\n",
    "x_test_clean = X_test_clean.reshape(len(X_test_clean), 72, 72, 1)\n",
    "x_test_noise = X_test_noise.reshape(len(X_test_noise), 72, 72, 1)"
   ]
  },
  {
   "cell_type": "code",
   "execution_count": 22,
   "metadata": {},
   "outputs": [],
   "source": [
    "input_img = Input(shape=(72, 72, 1))"
   ]
  },
  {
   "cell_type": "code",
   "execution_count": 25,
   "metadata": {},
   "outputs": [],
   "source": [
    "x = Conv2D(32, (3, 3), activation='relu', padding='same')(input_img)\n",
    "x = MaxPooling2D((2, 2), padding='same')(x)\n",
    "x = Conv2D(32, (3, 3), activation='relu', padding='same')(x)\n",
    "encoded = MaxPooling2D((2, 2), padding='same')(x)"
   ]
  },
  {
   "cell_type": "code",
   "execution_count": 26,
   "metadata": {},
   "outputs": [],
   "source": [
    "x = Conv2D(32, (3, 3), activation='relu', padding='same')(encoded)\n",
    "x = UpSampling2D((2, 2))(x)\n",
    "x = Conv2D(32, (3, 3), activation='relu', padding='same')(x)\n",
    "x = UpSampling2D((2, 2))(x)\n",
    "decoded = Conv2D(1, (3, 3), activation='sigmoid', padding='same')(x)"
   ]
  },
  {
   "cell_type": "code",
   "execution_count": 27,
   "metadata": {},
   "outputs": [],
   "source": [
    "autoencoder = Model(input_img, decoded)\n",
    "autoencoder.compile(optimizer='adam', loss='binary_crossentropy')"
   ]
  },
  {
   "cell_type": "code",
   "execution_count": 28,
   "metadata": {},
   "outputs": [
    {
     "name": "stdout",
     "output_type": "stream",
     "text": [
      "Train on 600 samples, validate on 300 samples\n",
      "Epoch 1/10\n",
      "600/600 [==============================] - 14s 24ms/step - loss: 0.3772 - val_loss: 0.1818\n",
      "Epoch 2/10\n",
      "600/600 [==============================] - 14s 23ms/step - loss: 0.0880 - val_loss: 0.0294\n",
      "Epoch 3/10\n",
      "600/600 [==============================] - 15s 25ms/step - loss: 0.0267 - val_loss: 0.0247\n",
      "Epoch 4/10\n",
      "600/600 [==============================] - 15s 26ms/step - loss: 0.0224 - val_loss: 0.0194\n",
      "Epoch 5/10\n",
      "600/600 [==============================] - 15s 25ms/step - loss: 0.0190 - val_loss: 0.0170\n",
      "Epoch 6/10\n",
      "600/600 [==============================] - 13s 22ms/step - loss: 0.0165 - val_loss: 0.0147\n",
      "Epoch 7/10\n",
      "600/600 [==============================] - 13s 22ms/step - loss: 0.0146 - val_loss: 0.0127\n",
      "Epoch 8/10\n",
      "600/600 [==============================] - 13s 22ms/step - loss: 0.0124 - val_loss: 0.0112\n",
      "Epoch 9/10\n",
      "600/600 [==============================] - 17s 28ms/step - loss: 0.0107 - val_loss: 0.0101\n",
      "Epoch 10/10\n",
      "600/600 [==============================] - 16s 26ms/step - loss: 0.0094 - val_loss: 0.0091\n"
     ]
    },
    {
     "data": {
      "text/plain": [
       "<keras.callbacks.History at 0x16396d0ec88>"
      ]
     },
     "execution_count": 28,
     "metadata": {},
     "output_type": "execute_result"
    }
   ],
   "source": [
    "autoencoder.fit(x_train_noise, x_train_clean, epochs=10, batch_size=32, shuffle=True, validation_data=(x_test_noise, x_test_clean))"
   ]
  },
  {
   "cell_type": "code",
   "execution_count": 29,
   "metadata": {},
   "outputs": [],
   "source": [
    "x_pred_clean = autoencoder.predict(x_test_noise, batch_size=32)"
   ]
  },
  {
   "cell_type": "code",
   "execution_count": 30,
   "metadata": {},
   "outputs": [
    {
     "data": {
      "text/plain": [
       "<matplotlib.image.AxesImage at 0x163976ddd30>"
      ]
     },
     "execution_count": 30,
     "metadata": {},
     "output_type": "execute_result"
    },
    {
     "data": {
      "image/png": "[encoded data removed]",
      "text/plain": [
       "<Figure size 432x288 with 1 Axes>"
      ]
     },
     "metadata": {
      "needs_background": "light"
     },
     "output_type": "display_data"
    }
   ],
   "source": [
    "j = random.randint(0,300)\n",
    "plt.imshow(x_test_noise[j].reshape(72,72), cmap='gray')"
   ]
  },
  {
   "cell_type": "code",
   "execution_count": 31,
   "metadata": {},
   "outputs": [
    {
     "data": {
      "text/plain": [
       "<matplotlib.image.AxesImage at 0x1638119e080>"
      ]
     },
     "execution_count": 31,
     "metadata": {},
     "output_type": "execute_result"
    },
    {
     "data": {
      "image/png": "[encoded data removed]",
      "text/plain": [
       "<Figure size 432x288 with 1 Axes>"
      ]
     },
     "metadata": {
      "needs_background": "light"
     },
     "output_type": "display_data"
    }
   ],
   "source": [
    "plt.imshow(x_test_clean[j].reshape(72,72), cmap='gray')"
   ]
  },
  {
   "cell_type": "code",
   "execution_count": 32,
   "metadata": {},
   "outputs": [
    {
     "data": {
      "text/plain": [
       "<matplotlib.image.AxesImage at 0x163811f3588>"
      ]
     },
     "execution_count": 32,
     "metadata": {},
     "output_type": "execute_result"
    },
    {
     "data": {
      "image/png": "[encoded data removed]",
      "text/plain": [
       "<Figure size 432x288 with 1 Axes>"
      ]
     },
     "metadata": {
      "needs_background": "light"
     },
     "output_type": "display_data"
    }
   ],
   "source": [
    "plt.imshow(x_pred_clean[j].reshape(72,72), cmap='gray')"
   ]
  }
 ],
 "metadata": {
  "kernelspec": {
   "display_name": "Python 3",
   "language": "python",
   "name": "python3"
  },
  "language_info": {
   "codemirror_mode": {
    "name": "ipython",
    "version": 3
   },
   "file_extension": ".py",
   "mimetype": "text/x-python",
   "name": "python",
   "nbconvert_exporter": "python",
   "pygments_lexer": "ipython3",
   "version": "3.6.7"
  },
  "toc": {
   "base_numbering": 1,
   "nav_menu": {},
   "number_sections": true,
   "sideBar": true,
   "skip_h1_title": false,
   "title_cell": "Table of Contents",
   "title_sidebar": "Contents",
   "toc_cell": false,
   "toc_position": {},
   "toc_section_display": true,
   "toc_window_display": true
  }
 },
 "nbformat": 4,
 "nbformat_minor": 2
}
