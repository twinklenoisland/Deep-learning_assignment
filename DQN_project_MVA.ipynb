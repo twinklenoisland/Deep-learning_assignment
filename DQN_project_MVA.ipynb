{
  "nbformat": 4,
  "nbformat_minor": 0,
  "metadata": {
    "colab": {
      "name": "DQN_project_MVA.ipynb",
      "version": "0.3.2",
      "provenance": [],
      "collapsed_sections": []
    },
    "kernelspec": {
      "display_name": "Python 3",
      "language": "python",
      "name": "python3"
    }
  },
  "cells": [
    {
      "metadata": {
        "id": "O0_N0BH8HwpH",
        "colab_type": "text"
      },
      "cell_type": "markdown",
      "source": [
        "**You may need to install [OpenCV](https://pypi.python.org/pypi/opencv-python) and [scikit-video](http://www.scikit-video.org/stable/).**"
      ]
    },
    {
      "metadata": {
        "id": "iqGNn9ZcBjTp",
        "colab_type": "code",
        "colab": {
          "base_uri": "https://localhost:8080/",
          "height": 107
        },
        "outputId": "4f0b3694-0225-4236-a2af-f0babb971147"
      },
      "cell_type": "code",
      "source": [
        "!pip install scikit-video"
      ],
      "execution_count": 7,
      "outputs": [
        {
          "output_type": "stream",
          "text": [
            "Requirement already satisfied: scikit-video in /usr/local/lib/python3.6/dist-packages (1.1.11)\n",
            "Requirement already satisfied: pillow in /usr/local/lib/python3.6/dist-packages (from scikit-video) (4.0.0)\n",
            "Requirement already satisfied: scipy in /usr/local/lib/python3.6/dist-packages (from scikit-video) (1.1.0)\n",
            "Requirement already satisfied: numpy in /usr/local/lib/python3.6/dist-packages (from scikit-video) (1.14.6)\n",
            "Requirement already satisfied: olefile in /usr/local/lib/python3.6/dist-packages (from pillow->scikit-video) (0.46)\n"
          ],
          "name": "stdout"
        }
      ]
    },
    {
      "metadata": {
        "id": "TrD0lFa-HwpM",
        "colab_type": "code",
        "colab": {}
      },
      "cell_type": "code",
      "source": [
        "import keras\n",
        "import numpy as np\n",
        "import io\n",
        "import base64\n",
        "from IPython.display import HTML\n",
        "import skvideo.io\n",
        "import cv2\n",
        "import json\n",
        "\n",
        "from keras.models import Sequential,model_from_json\n",
        "from keras.layers.core import Dense\n",
        "from keras.optimizers import sgd\n",
        "from keras.layers import Conv2D, MaxPooling2D, Activation, AveragePooling2D,Reshape,BatchNormalization"
      ],
      "execution_count": 0,
      "outputs": []
    },
    {
      "metadata": {
        "id": "3_HNOsggHwpZ",
        "colab_type": "text"
      },
      "cell_type": "markdown",
      "source": [
        "# MiniProject #3: Deep Reinforcement Learning"
      ]
    },
    {
      "metadata": {
        "id": "8ZdPY32PHwpd",
        "colab_type": "text"
      },
      "cell_type": "markdown",
      "source": [
        "__Notations__: $E_p$ is the expectation under probability $p$. Please justify each of your answer and widely comment your code."
      ]
    },
    {
      "metadata": {
        "id": "Zd5HibhaHwpg",
        "colab_type": "text"
      },
      "cell_type": "markdown",
      "source": [
        "# Context"
      ]
    },
    {
      "metadata": {
        "id": "YAH8In04Hwpj",
        "colab_type": "text"
      },
      "cell_type": "markdown",
      "source": [
        "In a reinforcement learning algorithm, we modelize each step $t$ as an action $a_t$ obtained from a state $s_t$, i.e. $\\{(a_{t},s_{t})_{t\\leq T}\\}$ having the Markov property. We consider a discount factor $\\gamma \\in [0,1]$ that ensures convergence. The goal is to find among all the policies $\\pi$, one that maximizes the expected reward:\n",
        "\n",
        "\\begin{equation*}\n",
        "R(\\pi)=\\sum_{t\\leq T}E_{p^{\\pi}}[\\gamma^t r(s_{t},a_{t})] \\> ,\n",
        "\\end{equation*}\n",
        "\n",
        "where: \n",
        "\\begin{equation*}p^{\\pi}(a_{0},a_{1},s_{1},...,a_{T},s_{T})=p(a_{0})\\prod_{t=1}^{T}\\pi(a_{t}|s_{t})p(s_{t+1}|s_{t},a_{t}) \\> .\n",
        "\\end{equation*}\n",
        "\n",
        "We note the $Q$-function:\n",
        "\n",
        "\\begin{equation*}Q^\\pi(s,a)=E_{p^{\\pi}}[\\sum_{t\\leq T}\\gamma^{t}r(s_{t},a_{t})|s_{0}=s,a_{0}=a] \\> .\n",
        "\\end{equation*}\n",
        "\n",
        "Thus, the optimal Q function is:\n",
        "\\begin{equation*}\n",
        "Q^*(s,a)=\\max_{\\pi}Q^\\pi(s,a) \\> .\n",
        "\\end{equation*}\n",
        "\n",
        "In this project, we will apply the deep reinforcement learning techniques to a simple game: an agent will have to learn from scratch a policy that will permit it maximizing a reward."
      ]
    },
    {
      "metadata": {
        "id": "snve72DAHwpn",
        "colab_type": "text"
      },
      "cell_type": "markdown",
      "source": [
        "## The environment, the agent and the game"
      ]
    },
    {
      "metadata": {
        "id": "V4QDi-p4Hwpq",
        "colab_type": "text"
      },
      "cell_type": "markdown",
      "source": [
        "### The environment"
      ]
    },
    {
      "metadata": {
        "id": "Zp-6dG-bHwpt",
        "colab_type": "text"
      },
      "cell_type": "markdown",
      "source": [
        "```Environment``` is an abstract class that represents the states, rewards, and actions to obtain the new state."
      ]
    },
    {
      "metadata": {
        "id": "ul-NX8MqHwpv",
        "colab_type": "code",
        "colab": {}
      },
      "cell_type": "code",
      "source": [
        "class Environment(object):\n",
        "    def __init__(self):\n",
        "        pass\n",
        "\n",
        "    def act(self, act):\n",
        "        \"\"\"\n",
        "        One can act on the environment and obtain its reaction:\n",
        "        - the new state\n",
        "        - the reward of the new state\n",
        "        - should we continue the game?\n",
        "\n",
        "        :return: state, reward, game_over\n",
        "        \"\"\"\n",
        "        pass\n",
        "\n",
        "\n",
        "    def reset(self):\n",
        "        \"\"\"\n",
        "        Reinitialize the environment to a random state and returns\n",
        "        the original state\n",
        "\n",
        "        :return: state\n",
        "        \"\"\"\n",
        "        pass\n",
        "    \n",
        "    def draw(self):\n",
        "        \"\"\"\n",
        "        Visualize in the console or graphically the current state\n",
        "        \"\"\"\n",
        "        pass"
      ],
      "execution_count": 0,
      "outputs": []
    },
    {
      "metadata": {
        "id": "eGQX2p1JHwp2",
        "colab_type": "text"
      },
      "cell_type": "markdown",
      "source": [
        "The method ```act``` allows to act on the environment at a given state $s_t$ (stored internally), via action $a_t$. The method will return the new state $s_{t+1}$, the reward $r(s_{t},a_{t})$ and determines if $t\\leq T$ (*game_over*).\n",
        "\n",
        "The method ```reset``` simply reinitializes the environment to a random state $s_0$.\n",
        "\n",
        "The method ```draw``` displays the current state $s_t$ (this is useful to check the behavior of the Agent).\n",
        "\n",
        "We modelize $s_t$ as a tensor, while $a_t$ is an integer."
      ]
    },
    {
      "metadata": {
        "id": "KZCc5chtHwp4",
        "colab_type": "text"
      },
      "cell_type": "markdown",
      "source": [
        "### The Agent"
      ]
    },
    {
      "metadata": {
        "id": "7hQZn3c8Hwp5",
        "colab_type": "text"
      },
      "cell_type": "markdown",
      "source": [
        "The goal of the ```Agent``` is to interact with the ```Environment``` by proposing actions $a_t$ obtained from a given state $s_t$ to attempt to maximize its __reward__ $r(s_t,a_t)$. We propose the following abstract class:"
      ]
    },
    {
      "metadata": {
        "id": "vIfEtCK0Hwp7",
        "colab_type": "code",
        "colab": {}
      },
      "cell_type": "code",
      "source": [
        "class Agent(object):\n",
        "    def __init__(self, epsilon=0.1, n_action=4):\n",
        "        self.epsilon = epsilon\n",
        "        self.n_action = n_action\n",
        "    \n",
        "    def set_epsilon(self,e):\n",
        "        self.epsilon = e\n",
        "\n",
        "    def act(self,s,train=True):\n",
        "        \"\"\" This function should return the next action to do:\n",
        "        an integer between 0 and 4 (not included) with a random exploration of epsilon\"\"\"\n",
        "        if train:\n",
        "            if np.random.rand() <= self.epsilon:\n",
        "                a = np.random.randint(0, self.n_action, size=1)[0]\n",
        "            else:\n",
        "                a = self.learned_act(s)\n",
        "        else: # in some cases, this can improve the performance.. remove it if poor performances\n",
        "            a = self.learned_act(s)\n",
        "\n",
        "        return a\n",
        "\n",
        "    def learned_act(self,s):\n",
        "        \"\"\" Act via the policy of the agent, from a given state s\n",
        "        it proposes an action a\"\"\"\n",
        "        pass\n",
        "\n",
        "    def reinforce(self, s, n_s, a, r, game_over_):\n",
        "        \"\"\" This function is the core of the learning algorithm. \n",
        "        It takes as an input the current state s_, the next state n_s_\n",
        "        the action a_ used to move from s_ to n_s_ and the reward r_.\n",
        "        \n",
        "        Its goal is to learn a policy.\n",
        "        \"\"\"\n",
        "        pass\n",
        "\n",
        "    def save(self):\n",
        "        \"\"\" This function returns basic stats if applicable: the\n",
        "        loss and/or the model\"\"\"\n",
        "        pass\n",
        "\n",
        "    def load(self):\n",
        "        \"\"\" This function allows to restore a model\"\"\"\n",
        "        pass"
      ],
      "execution_count": 0,
      "outputs": []
    },
    {
      "metadata": {
        "id": "MSGIPsUNHwqA",
        "colab_type": "text"
      },
      "cell_type": "markdown",
      "source": [
        "***\n",
        "__Question 1__:\n",
        "Explain the function act. Why is ```epsilon``` essential?"
      ]
    },
    {
      "metadata": {
        "id": "igxyETElHwqB",
        "colab_type": "text"
      },
      "cell_type": "markdown",
      "source": [
        "The act function returns the next action to do given the current status. The action is conditioned by the previous training. But the current action may be biased by the previous training, and an exploration criteria will help prevent the biase to some degree. With a probability, epsilon allows the agent to randomly explore the status and return a random action."
      ]
    },
    {
      "metadata": {
        "id": "CahRxDxnHwqC",
        "colab_type": "text"
      },
      "cell_type": "markdown",
      "source": [
        "***\n",
        "### The Game"
      ]
    },
    {
      "metadata": {
        "id": "rn84jrmgHwqE",
        "colab_type": "text"
      },
      "cell_type": "markdown",
      "source": [
        "The ```Agent``` and the ```Environment``` work in an interlaced way as in the following (take some time to understand this code as it is the core of the project)\n",
        "\n",
        "```python\n",
        "\n",
        "epoch = 300\n",
        "env = Environment()\n",
        "agent = Agent()\n",
        "\n",
        "\n",
        "# Number of won games\n",
        "score = 0\n",
        "loss = 0\n",
        "\n",
        "\n",
        "for e in range(epoch):\n",
        "    # At each epoch, we restart to a fresh game and get the initial state\n",
        "    state = env.reset()\n",
        "    # This assumes that the games will end\n",
        "    game_over = False\n",
        "\n",
        "    win = 0\n",
        "    lose = 0\n",
        "    \n",
        "    while not game_over:\n",
        "        # The agent performs an action\n",
        "        action = agent.act(state)\n",
        "\n",
        "        # Apply an action to the environment, get the next state, the reward\n",
        "        # and if the games end\n",
        "        prev_state = state\n",
        "        state, reward, game_over = env.act(action)\n",
        "\n",
        "        # Update the counters\n",
        "        if reward > 0:\n",
        "            win = win + reward\n",
        "        if reward < 0:\n",
        "            lose = lose -reward\n",
        "\n",
        "        # Apply the reinforcement strategy\n",
        "        loss = agent.reinforce(prev_state, state,  action, reward, game_over)\n",
        "\n",
        "    # Save as a mp4\n",
        "    if e % 10 == 0:\n",
        "        env.draw(e)\n",
        "\n",
        "    # Update stats\n",
        "    score += win-lose\n",
        "\n",
        "    print(\"Epoch {:03d}/{:03d} | Loss {:.4f} | Win/lose count {}/{} ({})\"\n",
        "          .format(e, epoch, loss, win, lose, win-lose))\n",
        "    agent.save()\n",
        "```"
      ]
    },
    {
      "metadata": {
        "id": "gotRyqHFHwqG",
        "colab_type": "text"
      },
      "cell_type": "markdown",
      "source": [
        "# The game, *eat cheese*"
      ]
    },
    {
      "metadata": {
        "id": "wTMdOmPCHwqI",
        "colab_type": "text"
      },
      "cell_type": "markdown",
      "source": [
        "A rat runs on an island and tries to eat as much as possible. The island is subdivided into $N\\times N$ cells, in which there are cheese (+0.5) and poisonous cells (-1). The rat has a visibility of 2 cells (thus it can see $5^2$ cells). The rat is given a time $T$ to accumulate as much food as possible. It can perform 4 actions: going up, down, left, right. \n",
        "\n",
        "The goal is to code an agent to solve this task that will learn by trial and error. We propose the following environment:"
      ]
    },
    {
      "metadata": {
        "id": "LJUeMWerHwqJ",
        "colab_type": "code",
        "colab": {}
      },
      "cell_type": "code",
      "source": [
        "class Environment(object):\n",
        "    def __init__(self, grid_size=10, max_time=500, temperature=0.1):\n",
        "        grid_size = grid_size+4\n",
        "        self.grid_size = grid_size\n",
        "        self.max_time = max_time\n",
        "        self.temperature = temperature\n",
        "\n",
        "        #board on which one plays\n",
        "        self.board = np.zeros((grid_size,grid_size))\n",
        "        self.position = np.zeros((grid_size,grid_size))\n",
        "\n",
        "        # coordinate of the cat\n",
        "        self.x = 0\n",
        "        self.y = 1\n",
        "\n",
        "        # self time\n",
        "        self.t = 0\n",
        "\n",
        "        self.scale=16\n",
        "\n",
        "        self.to_draw = np.zeros((max_time+2, grid_size*self.scale, grid_size*self.scale, 3))\n",
        "\n",
        "\n",
        "    def draw(self,e):\n",
        "        skvideo.io.vwrite(str(e) + '.mp4', self.to_draw)\n",
        "\n",
        "    def get_frame(self,t):\n",
        "        b = np.zeros((self.grid_size,self.grid_size,3))+128\n",
        "        b[self.board>0,0] = 256\n",
        "        b[self.board < 0, 2] = 256\n",
        "        b[self.x,self.y,:]=256\n",
        "        b[-2:,:,:]=0\n",
        "        b[:,-2:,:]=0\n",
        "        b[:2,:,:]=0\n",
        "        b[:,:2,:]=0\n",
        "        \n",
        "        b =  cv2.resize(b, None, fx=self.scale, fy=self.scale, interpolation=cv2.INTER_NEAREST)\n",
        "\n",
        "        self.to_draw[t,:,:,:]=b\n",
        "\n",
        "\n",
        "    def act(self, action):\n",
        "        \"\"\"This function returns the new state, reward and decides if the\n",
        "        game ends.\"\"\"\n",
        "\n",
        "        self.get_frame(int(self.t))\n",
        "\n",
        "        self.position = np.zeros((self.grid_size, self.grid_size))\n",
        "\n",
        "        self.position[0:2,:]= -1\n",
        "        self.position[:,0:2] = -1\n",
        "        self.position[-2:, :] = -1\n",
        "        self.position[-2:, :] = -1\n",
        "\n",
        "        self.position[self.x, self.y] = 1\n",
        "        if action == 0:\n",
        "            if self.x == self.grid_size-3:\n",
        "                self.x = self.x-1\n",
        "            else:\n",
        "                self.x = self.x + 1\n",
        "        elif action == 1:\n",
        "            if self.x == 2:\n",
        "                self.x = self.x+1\n",
        "            else:\n",
        "                self.x = self.x-1\n",
        "        elif action == 2:\n",
        "            if self.y == self.grid_size - 3:\n",
        "                self.y = self.y - 1\n",
        "            else:\n",
        "                self.y = self.y + 1\n",
        "        elif action == 3:\n",
        "            if self.y == 2:\n",
        "                self.y = self.y + 1\n",
        "            else:\n",
        "                self.y = self.y - 1\n",
        "        else:\n",
        "            RuntimeError('Error: action not recognized')\n",
        "\n",
        "        self.t = self.t + 1\n",
        "        reward = self.board[self.x, self.y]\n",
        "        self.board[self.x, self.y] = 0\n",
        "        game_over = self.t > self.max_time\n",
        "        state = np.concatenate((self.board.reshape(self.grid_size, self.grid_size,1),\n",
        "                        self.position.reshape(self.grid_size, self.grid_size,1)),axis=2)\n",
        "        state = state[self.x-2:self.x+3,self.y-2:self.y+3,:]\n",
        "\n",
        "        return state, reward, game_over\n",
        "\n",
        "    def reset(self):\n",
        "        \"\"\"This function resets the game and returns the initial state\"\"\"\n",
        "\n",
        "        self.x = np.random.randint(3, self.grid_size-3, size=1)[0]\n",
        "        self.y = np.random.randint(3, self.grid_size-3, size=1)[0]\n",
        "\n",
        "\n",
        "        bonus = 0.5*np.random.binomial(1,self.temperature,size=self.grid_size**2)\n",
        "        bonus = bonus.reshape(self.grid_size,self.grid_size)\n",
        "\n",
        "        malus = -1.0*np.random.binomial(1,self.temperature,size=self.grid_size**2)\n",
        "        malus = malus.reshape(self.grid_size, self.grid_size)\n",
        "\n",
        "        self.to_draw = np.zeros((self.max_time+2, self.grid_size*self.scale, self.grid_size*self.scale, 3))\n",
        "\n",
        "\n",
        "        malus[bonus>0]=0\n",
        "\n",
        "        self.board = bonus + malus\n",
        "\n",
        "        self.position = np.zeros((self.grid_size, self.grid_size))\n",
        "        self.position[0:2,:]= -1\n",
        "        self.position[:,0:2] = -1\n",
        "        self.position[-2:, :] = -1\n",
        "        self.position[-2:, :] = -1\n",
        "        self.board[self.x,self.y] = 0\n",
        "        self.t = 0\n",
        "\n",
        "        state = np.concatenate((\n",
        "                               self.board.reshape(self.grid_size, self.grid_size,1),\n",
        "                        self.position.reshape(self.grid_size, self.grid_size,1)),axis=2)\n",
        "\n",
        "        state = state[self.x - 2:self.x + 3, self.y - 2:self.y + 3, :]\n",
        "        return state"
      ],
      "execution_count": 0,
      "outputs": []
    },
    {
      "metadata": {
        "id": "X42phH1rHwqN",
        "colab_type": "text"
      },
      "cell_type": "markdown",
      "source": [
        "The following elements are important because they correspond to the hyper parameters for this project:"
      ]
    },
    {
      "metadata": {
        "id": "hVm8Ps6EHwqP",
        "colab_type": "code",
        "colab": {}
      },
      "cell_type": "code",
      "source": [
        "# parameters\n",
        "size = 13\n",
        "T=200\n",
        "temperature=0.3\n",
        "epochs_train=100 # set small when debugging\n",
        "epochs_test=33 # set small when debugging\n",
        "\n",
        "# display videos\n",
        "def display_videos(name):\n",
        "    video = io.open(name, 'r+b').read()\n",
        "    encoded = base64.b64encode(video)\n",
        "    return '''<video alt=\"test\" controls>\n",
        "                <source src=\"data:video/mp4;base64,{0}\" type=\"video/mp4\" />\n",
        "             </video>'''.format(encoded.decode('ascii'))"
      ],
      "execution_count": 0,
      "outputs": []
    },
    {
      "metadata": {
        "id": "Z1oWW9S9HwqV",
        "colab_type": "text"
      },
      "cell_type": "markdown",
      "source": [
        "__Question 2__ Explain the use of the arrays ```position``` and ```board```."
      ]
    },
    {
      "metadata": {
        "id": "euCWKrx6HwqW",
        "colab_type": "text"
      },
      "cell_type": "markdown",
      "source": [
        "The array position indicates the position of the mouse and it represents where the rat can go. -1 is the blocked area where the rat can't go, 1 is the rat's position and 0 is the area where the rat can go. The board indicates the reward linked to each cell of the grid. If the rat comes to a cell in the board, it will get the corresponding reward shown in the cell. "
      ]
    },
    {
      "metadata": {
        "id": "8wbtagj2HwqW",
        "colab_type": "text"
      },
      "cell_type": "markdown",
      "source": [
        "## Random Agent"
      ]
    },
    {
      "metadata": {
        "id": "i97AzSOEHwqX",
        "colab_type": "text"
      },
      "cell_type": "markdown",
      "source": [
        "***\n",
        "__Question 3__ Implement a random Agent (only ```learned_act``` needs to be implemented):"
      ]
    },
    {
      "metadata": {
        "id": "xiB9kACiHwqY",
        "colab_type": "code",
        "colab": {}
      },
      "cell_type": "code",
      "source": [
        "class RandomAgent(Agent):\n",
        "    def __init__(self):\n",
        "        super(RandomAgent, self).__init__()\n",
        "        pass\n",
        "\n",
        "    def learned_act(self, s):\n",
        "        a = np.random.randint(0, self.n_action, size=1)[0]\n",
        "        return a"
      ],
      "execution_count": 0,
      "outputs": []
    },
    {
      "metadata": {
        "id": "5v2kQ06SHwqb",
        "colab_type": "text"
      },
      "cell_type": "markdown",
      "source": [
        "***\n",
        "***\n",
        "__Question 4__ Visualize the game moves. You need to fill in the following function for the evaluation:"
      ]
    },
    {
      "metadata": {
        "id": "6H1aAGdPHwqc",
        "colab_type": "code",
        "colab": {}
      },
      "cell_type": "code",
      "source": [
        "def test(agent,env,epochs,prefix=''):\n",
        "    # Number of won games\n",
        "    score = 0\n",
        "        \n",
        "    for e in range(epochs):\n",
        "        ##### FILL IN HERE\n",
        "        state = env.reset()\n",
        "        game_over = False\n",
        "        win = 0\n",
        "        lose = 0\n",
        "        \n",
        "        while not game_over:\n",
        "          action = agent.act(state, train=False)\n",
        "          \n",
        "          prev_state = state\n",
        "          state,reward,game_over = env.act(action)\n",
        "          if reward >0:\n",
        "                win = win + reward \n",
        "          if reward < 0:\n",
        "                lose = lose - reward\n",
        "        \n",
        "        # Save as a mp4\n",
        "        env.draw(prefix+str(e))\n",
        "\n",
        "        # Update stats\n",
        "        score = score + win-lose\n",
        "\n",
        "        print(\"Win/lose count {}/{}. Average score ({})\"\n",
        "              .format(win, lose, score/(1+e)))\n",
        "    print('Final score: '+str(score/epochs))"
      ],
      "execution_count": 0,
      "outputs": []
    },
    {
      "metadata": {
        "id": "2ygcKYfNHwqe",
        "colab_type": "code",
        "outputId": "a5a5aa25-3cf4-4362-e147-87c9f5d39bcb",
        "colab": {
          "base_uri": "https://localhost:8080/",
          "height": 887
        }
      },
      "cell_type": "code",
      "source": [
        "# Initialize the game\n",
        "env = Environment(grid_size=size, max_time=T,temperature=temperature)\n",
        "\n",
        "# Initialize the agent!\n",
        "agent = RandomAgent()\n",
        "\n",
        "test(agent,env,epochs_test,prefix='random')\n",
        "HTML(display_videos('random0.mp4'))"
      ],
      "execution_count": 28,
      "outputs": [
        {
          "output_type": "stream",
          "text": [
            "Win/lose count 15.5/20.0. Average score (-4.5)\n",
            "Win/lose count 14.0/15.0. Average score (-2.75)\n",
            "Win/lose count 8.0/11.0. Average score (-2.8333333333333335)\n",
            "Win/lose count 8.5/15.0. Average score (-3.75)\n",
            "Win/lose count 8.5/16.0. Average score (-4.5)\n",
            "Win/lose count 8.5/13.0. Average score (-4.5)\n",
            "Win/lose count 9.5/9.0. Average score (-3.7857142857142856)\n",
            "Win/lose count 9.0/17.0. Average score (-4.3125)\n",
            "Win/lose count 8.0/14.0. Average score (-4.5)\n",
            "Win/lose count 12.5/14.0. Average score (-4.2)\n",
            "Win/lose count 11.0/16.0. Average score (-4.2727272727272725)\n",
            "Win/lose count 5.5/10.0. Average score (-4.291666666666667)\n",
            "Win/lose count 9.0/18.0. Average score (-4.653846153846154)\n",
            "Win/lose count 13.5/17.0. Average score (-4.571428571428571)\n",
            "Win/lose count 11.5/16.0. Average score (-4.566666666666666)\n",
            "Win/lose count 8.5/13.0. Average score (-4.5625)\n",
            "Win/lose count 11.5/14.0. Average score (-4.4411764705882355)\n",
            "Win/lose count 12.0/17.0. Average score (-4.472222222222222)\n",
            "Win/lose count 10.0/9.0. Average score (-4.184210526315789)\n",
            "Win/lose count 11.0/13.0. Average score (-4.075)\n",
            "Win/lose count 7.5/12.0. Average score (-4.095238095238095)\n",
            "Win/lose count 8.0/8.0. Average score (-3.909090909090909)\n",
            "Win/lose count 7.5/14.0. Average score (-4.021739130434782)\n",
            "Win/lose count 13.5/14.0. Average score (-3.875)\n",
            "Win/lose count 12.0/20.0. Average score (-4.04)\n",
            "Win/lose count 9.5/20.0. Average score (-4.288461538461538)\n",
            "Win/lose count 12.5/20.0. Average score (-4.407407407407407)\n",
            "Win/lose count 8.5/17.0. Average score (-4.553571428571429)\n",
            "Win/lose count 7.5/10.0. Average score (-4.482758620689655)\n",
            "Win/lose count 5.0/11.0. Average score (-4.533333333333333)\n",
            "Win/lose count 13.5/13.0. Average score (-4.370967741935484)\n",
            "Win/lose count 7.5/11.0. Average score (-4.34375)\n",
            "Win/lose count 6.5/8.0. Average score (-4.257575757575758)\n",
            "Final score: -4.257575757575758\n"
          ],
          "name": "stdout"
        },
        {
          "output_type": "execute_result",
          "data": {
            "text/html": [
              "<video alt=\"test\" controls>\n",
              "                <source src=\"data:video/mp4;base64,AAAAIGZ0eXBpc29tAAACAGlzb21pc28yYXZjMW1wNDEAAAAIZnJlZQAAGQ1tZGF0AAACrQYF//+p3EXpvebZSLeWLNgg2SPu73gyNjQgLSBjb3JlIDE1MiByMjg1NCBlOWE1OTAzIC0gSC4yNjQvTVBFRy00IEFWQyBjb2RlYyAtIENvcHlsZWZ0IDIwMDMtMjAxNyAtIGh0dHA6Ly93d3cudmlkZW9sYW4ub3JnL3gyNjQuaHRtbCAtIG9wdGlvbnM6IGNhYmFjPTEgcmVmPTMgZGVibG9jaz0xOjA6MCBhbmFseXNlPTB4MToweDExMSBtZT1oZXggc3VibWU9NyBwc3k9MSBwc3lfcmQ9MS4wMDowLjAwIG1peGVkX3JlZj0xIG1lX3JhbmdlPTE2IGNocm9tYV9tZT0xIHRyZWxsaXM9MSA4eDhkY3Q9MCBjcW09MCBkZWFkem9uZT0yMSwxMSBmYXN0X3Bza2lwPTEgY2hyb21hX3FwX29mZnNldD00IHRocmVhZHM9MyBsb29rYWhlYWRfdGhyZWFkcz0xIHNsaWNlZF90aHJlYWRzPTAgbnI9MCBkZWNpbWF0ZT0xIGludGVybGFjZWQ9MCBibHVyYXlfY29tcGF0PTAgY29uc3RyYWluZWRfaW50cmE9MCBiZnJhbWVzPTMgYl9weXJhbWlkPTIgYl9hZGFwdD0xIGJfYmlhcz0wIGRpcmVjdD0xIHdlaWdodGI9MSBvcGVuX2dvcD0wIHdlaWdodHA9MiBrZXlpbnQ9MjUwIGtleWludF9taW49MjUgc2NlbmVjdXQ9NDAgaW50cmFfcmVmcmVzaD0wIHJjX2xvb2thaGVhZD00MCByYz1jcmYgbWJ0cmVlPTEgY3JmPTIzLjAgcWNvbXA9MC42MCBxcG1pbj0wIHFwbWF4PTY5IHFwc3RlcD00IGlwX3JhdGlvPTEuNDAgYXE9MToxLjAwAIAAAALtZYiEADP//vaG+BTYUyP+T7/8I/+5H7cfWfrixkIJvrVeQ9GAMl8a/5lGYaXpyc8t7R+vTNAEZz6HlLJIofgUkwDfMsjnE4qnNEDmR5JCVX04EsPBQ3QU4JUYarVHoyAqWCBpL73L56FYiV+bnL2c7jEMCUfKwvHg/9fI0ukoQN/oTUot6kjWIElGPg1GB0/L1GPAXQyBw8+aN6GC1NinwGF5Pd5/QJsF3J+O+8eAv87lWXJ2I7MjEl/+m/YIxBQ9EXAELEF0jnyqTGlmd5GPQdO7EBf0wNhskkgs0L50S+r4RR4HoLF+KMcjb9S/p26YwpR7uH3gkrk5ztQikcYFjHEOo03J2Ev3tzHlpEg0Q4BMfF893LmWQXqhbfXEHofHMmNQnBKR66Qa+kvbP+ksQnemFAumS5xKGiTBjGLJEU23YiFvXctFjr4V0yb98JPQQA+5KZDE+gCMLSh0/IMOQio8reCZxfjLqOxTimrjURdAtWEOQjecW1vr0q2hL79PeBxcLFpaCE53kiuC6fALn8V2gip69L7MeKHU4t0pzFJzvqFuE5bRNrEnmBdGMDAsogEHvK0xs0BLcbVhL1Oy62BVwi6UFpTAoq4irEuREiEPgr6vTOcTa7caqZjeWuQpVATSD2yOUiDmYtzFsQHG0qePO8EIVm+aYYpJDE6JlxiKACQ0fWDlF5vMxNv924pco3rFQknIx/jWplZ0vsFVAkl402G3uA8/C+5/1o2fJQqG1vongSADaZP1mhDOmIOKe5gbFvphukhvLYmgjZ4DY2qKcOwkGCOkhHHrPtxxLc8R83MxrWgIMlAOu/YFbPuMOKEQvD/AD19oUKjDFIU+0z0RFpFgdSzmxhbzaFCZsprmpVZiTQ9sJMEoF5h72pmAClqntv4C9NI5eqC3FxhDOkrsl8cTFZKm4nWB9rcCKlOmHKi+pOfTZluqTFaXp4jmAlDoNjHptrzf61+QazKLQxjkayQA2Mzl7QAAC7kAAAAZQZohbEM//p4QAEVJc6bBGA7K2eIwQiaUOAAAABdBmkI8IZMphDP//p4QAEO+IedboGSLnQAAABlBmmNJ4Q8mUwIb//6nhAAaWkT/Vb5j8T5gAAAAGUGahEnhDyZTAhv//qeEABr3VpBCJ/luZYEAAAAZQZqnSeEPJlMCG//+p4QAGx9lYYnax4LMEQAAABJBnsVFETwr/wAhvTru7+kWEYEAAAAOAZ7makK/ACGyuu48EI0AAAASQZrrSahBaJlMCGf//p4QAAR8AAAAEkGfCUURLC//AA+MS3PBJx6UugAAABABnyh0Qr8AFZTqTyvyU3bxAAAAEAGfKmpCvwAWJRomRNKzvcAAAAAcQZssSahBbJlMCG///qeEACjeif6rfVQY/8SkgAAAABdBm01J4QpSZTAhv/6nhAAp+K0dVDbcKwAAACxBm3FJ4Q6JlMCG//6nhABBvjp7vN2grnOuZZRJ8PAo4TrgUv7PnKeF3uZZuQAAABZBn49FETwv/wAnybPzNr/W0iapye+xAAAAEAGfrnRCvwA2EiyrwIruQIAAAAAQAZ+wakK/ADYEyTTfSQcicAAAACtBm7RJqEFomUwIZ//+nhABFvn1q8yyxhU/MsmDgPMrfVhWOHa1530D9iHZAAAAFEGf0kURLCv/ADoMz51WFYD7GZCDAAAAEAGf82pCvwA6DMHkwPXuMoAAAAAZQZv1SahBbJlMCGf//p4QAR0Q4/ngv5IdVQAAABlBmhZJ4QpSZTAhv/6nhABJvjp9RxoSHFtAAAAAHUGaOEnhDomUwU0TDP/+nhAAuvum9v/zVOG5QF2hAAAADwGeV2pCvwAmsmUzbMjYPwAAABhBmllJ4Q8mUwIb//6nhAAtnupx/h9W3BMAAAAZQZp6SeEPJlMCG//+p4QALH8adBWsymv0gQAAABtBmp5J4Q8mUwIZ//6eEAD3+uXWxw2fiH+Md6AAAAAVQZ68RRE8L/8AJrn7lusKgj92r0UFAAAAEAGe23RCvwAirq0ZJb/XU4EAAAAQAZ7dakK/ADTO1HK/tw/ZwAAAABpBmt9JqEFomUwIb//+p4QAP77B/hOC3QlZQAAAABxBmuFJ4QpSZTBREsM//p4QAKR7pvtKuOpNPrKBAAAADwGfAGpCvwAhsrdKNIeLRgAAABlBmwJJ4Q6JlMCG//6nhAAaf2D/CcFuhOzBAAAAGUGbI0nhDyZTAhv//qeEABDvjp9RxoSHYsAAAAAYQZtGSeEPJlMCGf/+nhAALDXuNC6b7ruFAAAAD0GfZEURPCv/AAksm4cfQQAAAA0Bn4VqQr8ACTBpFvj7AAAAGkGbh0moQWiZTAhv//6nhAALZ7qfqONCQ8nBAAAAG0GbqEnhClJlMCG//qeEAAdH2VgQn+E4LdDA4AAAAB1Bm8xJ4Q6JlMCG//6nhAAEu+On3Wlmam3PvNrKWAAAABBBn+pFETwv/wAC1ssVAsoPAAAAEAGeCXRCvwADy8WZ5X5KebgAAAAQAZ4LakK/AAKHbW2GerTDgAAAAB1Bmg5JqEFomUwU8N/+p4QABPcVqmP9HE/y2SlznQAAABABni1qQr8AA/jMHkwPX3iBAAAAF0GaL0nhClJlMCG//qeEAAUbFaOqhtyTAAAAHUGaU0nhDomUwIb//qeEAAfsHhxYz9A4yDUwfy7wAAAAEEGecUURPC//AATXPOzG3tYAAAAPAZ6QdEK/AAQW0IDJLwKBAAAAEAGekmpCvwAGmdU8mB6+dYAAAAAbQZqUSahBaJlMCG///qeEAAgqzVXsGYNuavUwAAAAG0GauEnhClJlMCGf/p4QADNr7muOfza+vvuBMQAAAB9BntZFNEwv/wALztPcyymKMcywDwcyyDflwz6N7JzAAAAAEAGe9XRCvwAP5GI4DplOTYEAAAAQAZ73akK/ABBc0bzTFW1tQQAAABpBmvlJqEFomUwIb//+p4QADT+wf4Tgt0KsQAAAAChBmxtJ4QpSZTBREsM//p4QACLfFl8uBTX1CvmWJYL5lk2Dp3Pd1OqZAAAAEAGfOmpCvwAHQZg8lzPlLYAAAAAYQZs8SeEOiZTAhn/+nhAAIt85vtkMfWKLAAAAGUGbXUnhDyZTAhv//qeEAAXX3U/UcaEiB8EAAAAaQZt+SeEPJlMCG//+p4QAA7nsrGb0FazKdlgAAAAdQZuCSeEPJlMCG//+p4QABYcVsxP9Xb3U/CGc50QAAAARQZ+gRRE8L/8AA0wjjOfCdsEAAAAQAZ/fdEK/AASYQBztjjT94AAAABABn8FqQr8ABGlSO9nj7rCBAAAAGUGbw0moQWiZTAhv//6nhAAFqxWkEIn+XHMAAAAmQZvnSeEKUmUwIb/+p4QABf/gSucyyue8fgUqWz8Cmdgc9mi72v8AAAAVQZ4FRTRML/8AA4qer10V8fu1iufhAAAAEAGeJHRCvwAEt3HeVsofIYEAAAAPAZ4makK/AATXYjyYHr63AAAAGkGaKEmoQWiZTAhv//6nhAAGHdWkEIn+XFuAAAAAEUGaTEnhClJlMCGf/p4QAAR8AAAADEGeakU0TC//AACygQAAAA8Bnol0Qr8ABR7R3R23w78AAAAPAZ6LakK/AAUdRogtR5kpAAAAGkGajUmoQWiZTAhv//6nhAAGJ9g/wnBboZPBAAAAG0GarknhClJlMCG//qeEAAPl7KwIT17M+CM/gQAAABhBmtJJ4Q6JlMCG//6nhAAGHwMu7fYP2KkAAAAQQZ7wRRE8L/8AA6CdO/zsiAAAAA8Bnw90Qr8ABNhAHQnJvMAAAAAPAZ8RakK/AAT6wjyYHr6vAAAAGUGbE0moQWiZTAhv//6nhAAGJ9g9ezPgjEUAAAAZQZs2SeEKUmUwIb/+p4QACSoAs22z7PntQAAAABJBn1RFNEwr/wAHbZ30LckWHYEAAAAOAZ91akK/AAdtni1r2HYAAAAaQZt3SahBaJlMCHf//qmWAASn6OaWdHU8y8EAAAAbQZubSeEKUmUwIb/+p4QADXurZif6u3xp/I21AAAAEEGfuUU0TC//AAfv+KvIyWAAAAAQAZ/YdEK/AAsWaJE+LMUscQAAAA8Bn9pqQr8ACxcrAuv8PcAAAAAZQZveSahBaJlMCG///qeEABT/RP9Sp+TB4QAAABFBn/xFESwr/wAQ3Z3/RyRWiwAAAA8Bnh1qQr8AEN2I8mB69+8AAAAdQZoASahBbJlMFEw3//6nhAAgo+ZqbNuM3up8YPQAAAAQAZ4/akK/ABsHVPJgeveAgQAAAB1BmiRJ4QpSZTAhv/6nhAAho+aptcbbMH62D5OAwAAAABZBnkJFNEwv/wAUdfrH7pej5iHl6sVhAAAAEAGeYXRCvwAbp5N5Wyh6lcAAAAAQAZ5jakK/ABsHbhNxn16hdQAAABpBmmVJqEFomUwIb//+p4QAIN8dPqONCQ5lQQAAAB9BmodJ4QpSZTBREsN//qeEABWvdT91pZmptz7zawm5AAAAEAGepmpCvwARWWQw+gJB0jkAAAAZQZqoSeEOiZTAhv/+p4QADng8KdZ0+66UgAAAABxBmsxJ4Q8mUwIb//6nhAAO57B/Npd2sjgLcoHYAAAAEUGe6kURPC//AAjs99z29IWJAAAADwGfCXRCvwAMQ8m884wPgAAAAA8BnwtqQr8AC/EtKkUCVy4AAAAaQZsNSahBaJlMCHf//qmWAAcdMhJuHBR86TEAAAARQZsxSeEKUmUwIb/+p4QAAScAAAATQZ9PRTRML/8ADN+uWM24nTH3JwAAABABn250Qr8AEeEAc7Y402wgAAAAEAGfcGpCvwAR3NG80xVtZsAAAAAaQZt0SahBaJlMCG///qeEABYfRP9VvmPxS8EAAAAPQZ+SRREsK/8AEdlcCYNAAAAADQGfs2pCvwAR4NYeLBoAAAAaQZu1SahBbJlMCG///qeEACGoAs22z7Pm1MEAAAAfQZvXSeEKUmUwUVLDf/6nhAA17q1TH8uAZkGpg/kEkAAAABABn/ZqQr8ALFYR5MD17mmBAAAAEUGb+0nhDomUwIb//qeEAAEnAAAADEGeGUUVPC//AACygAAAAA8Bnjh0Qr8ALXaO6O2+Ff8AAAAPAZ46akK/AC1qNEFqPLu9AAAAHEGaPUmoQWiZTBTwz/6eEAFPr3Ncc/m19ffbefEAAAAPAZ5cakK/AEV2eW4bNqcbAAAAG0GaXknhClJlMCG//qeEAFa94YCa9ezPgivlQAAAABpBmn9J4Q6JlMCG//6nhAB+zjP9Vvq1P80soAAAABpBmoJJ4Q8mUwIb//6nhADH0if6rfVQxP3TQQAAABJBnqBFETwr/wCj2RC7DfS82ggAAAAPAZ7BakK/AKPZEJwQOLFhAAAAHUGaxEmoQWiZTBTw3/6nhAEsHzVNZty9Od9nt/YeAAAAEAGe42pCvwDys+Y3Q5IOJ/kAAAAbQZrmSeEKUmUwUsN//qeEATX46e+GeKI9LN6BAAAAEAGfBWpCvwD4K4NceKto7OEAAAARQZsKSeEOiZTAhv/+p4QAAScAAAAMQZ8oRRU8L/8AALKAAAAAEAGfR3RCvwCh2Ud+AD7dY8AAAAAPAZ9JakK/AKHZRus9WenpAAAAGUGbS0moQWiZTAhv//6nhADI+wevZnwRXVsAAAAVQZtvSeEKUmUwIZ/+nhAB5/f39EIeAAAADkGfjUU0TC//AEtoAMthAAAAEAGfrHRCvwCdWUd+AD7dZkEAAAAQAZ+uakK/AJ1ZR3s8fbrMgQAAABpBm7BJqEFomUwIb//+p4QAx7q0ghE/y2z1gAAAACBBm9JJ4QpSZTBREsM//p4QBNBDlW4Lydlso9ut+bZvQAAAAA8Bn/FqQr8A/tnluGzamTMAAAAaQZvzSeEOiZTAhv/+p4QCiKGNTygrU/xanYAAAAAaQZoUSeEPJlMCG//+p4QM9xP9NY69T+4w+YAAAAAVQZo4SeEPJlMCG//+p4QLtwx+FmHHAAAADkGeVkURPC//Aen7IFlAAAAAEAGedXRCvwKwQBzRIRzlFFEAAAAQAZ53akK/Aq7Wu4DnWZYd0QAAABlBmnlJqEFomUwIb//+p4QM9xP9MVt4bmHzAAAAGUGamknhClJlMCG//qeEApPYP7wBoSD02YEAAAAdQZq8SeEOiZTBTRMO//6plgCh+0v65wSzlBuDpoIAAAAPAZ7bakK/AP6VulGkPEpnAAAAGEGawEnhDyZTAh3//qmWAKDc6Oe9pfc5vQAAABBBnv5FETwv/wC+0CClDB1IAAAADwGfHXRCvwCjxhAZJcqPgAAAAA8Bnx9qQr8A/tiPJgevbUEAAAAaQZsDSahBaJlMCHf//qmWAUdpCTa0hj7dNmAAAAARQZ8hRREsK/8Bk3af9HJFUQcAAAAOAZ9CakK/AZN2q5r1RBwAAAATQZtHSahBbJlMCHf//qmWAACVgQAAABNBn2VFFSwv/wHpu30WK3W0e0UVAAAAEAGfhHRCvwKwQBztjE2qSMEAAAAQAZ+GakK/Aq80bzS61k1qQQAAABpBm4pJqEFsmUwId//+qZYBTO0v5OEG4mg/wAAAABJBn6hFFSwr/wKvp13bqqPB5YAAAAAOAZ/JakK/Aq5WwACrjy0AAAASQZvOSahBbJlMCG///qeEAAEnAAAAE0Gf7EUVLC//AL7ktmpmWXIaD/IAAAAPAZ4LdEK/AP52UKTbJVGfAAAADwGeDWpCvwD+2eW4bNqZMwAAABpBmhFJqEFsmUwIb//+p4QBPfjp9PBoSGtUwQAAAA9Bni9FFSwr/wD+lcCS5UAAAAAPAZ5QakK/AKhygeTBFsWAAAAAHEGaVUmoQWyZTAhv//6nhADN+wf5ynXhRrcx2PkAAAAQQZ5zRRUsL/8AeX+HrrCSQAAAAA8BnpJ0Qr8AqCcoUm2SqUEAAAAPAZ6UakK/AKPG13fd7wLBAAAAGUGamEmoQWyZTAhn//6eEAHy9ffyJEfWEbMAAAARQZ62RRUsK/8AbBm5rj3vUQMAAAAPAZ7XakK/AGwJaVIoEqnpAAAAGUGa2UmoQWyZTAhn//6eEAFI902MuTZVuWwAAAAYQZr6SeEKUmUwIZ/+nhABP/dNjLk2VbmVAAAAGEGbG0nhDomUwIZ//p4QAdopxz+HOb6zSQAAABlBmzxJ4Q8mUwIb//6nhAC9+if6rfMfiEXBAAAAGUGbXUnhDyZTAhv//qeEASRAFm22fZ80TcEAAAAdQZtgSeEPJlMCG//+p4QCIhBZs+D/I4Zg5v2kS8AAAAAQQZ+eRRE8K/8BdWwA7JHycAAAABABn79qQr8BdcHXbPkv+pIxAAAAGUGbpEmoQWiZTAhv//6nhAj3AYBNf3Pwu4AAAAAOQZ/CRREsL/8BwyKhUEEAAAAQAZ/hdEK/Al9isYPg3b3mYAAAABABn+NqQr8CXmodCE1JiDghAAAAG0Gb6EmoQWyZTAhf//6MsCOtLkzbyXbzp7mSbwAAABBBngZFFSwv/wHWnQf815sxAAAADwGeJXRCvwF1jGLgPyz0IQAAABABnidqQr8CdjweTAm7nO6AAAAAGkGaKUuoQhBbJEYIKAfyAf2HgCFf/jhAABFwAAALkG1vb3YAAABsbXZoZAAAAAAAAAAAAAAAAAAAA+gAAB+QAAEAAAEAAAAAAAAAAAAAAAABAAAAAAAAAAAAAAAAAAAAAQAAAAAAAAAAAAAAAAAAQAAAAAAAAAAAAAAAAAAAAAAAAAAAAAAAAAAAAAAAAAIAAAq6dHJhawAAAFx0a2hkAAAAAwAAAAAAAAAAAAAAAQAAAAAAAB+QAAAAAAAAAAAAAAAAAAAAAAABAAAAAAAAAAAAAAAAAAAAAQAAAAAAAAAAAAAAAAAAQAAAAAEQAAABEAAAAAAAJGVkdHMAAAAcZWxzdAAAAAAAAAABAAAfkAAABAAAAQAAAAAKMm1kaWEAAAAgbWRoZAAAAAAAAAAAAAAAAAAAMgAAAZQAVcQAAAAAAC1oZGxyAAAAAAAAAAB2aWRlAAAAAAAAAAAAAAAAVmlkZW9IYW5kbGVyAAAACd1taW5mAAAAFHZtaGQAAAABAAAAAAAAAAAAAAAkZGluZgAAABxkcmVmAAAAAAAAAAEAAAAMdXJsIAAAAAEAAAmdc3RibAAAAJVzdHNkAAAAAAAAAAEAAACFYXZjMQAAAAAAAAABAAAAAAAAAAAAAAAAAAAAAAEQARAASAAAAEgAAAAAAAAAAQAAAAAAAAAAAAAAAAAAAAAAAAAAAAAAAAAAAAAAAAAAABj//wAAAC9hdmNDAfQADf/hABdn9AANkZsoIhHQgAAAAwCAAAAZB4oUywEABWjr48RIAAAAGHN0dHMAAAAAAAAAAQAAAMoAAAIAAAAAFHN0c3MAAAAAAAAAAQAAAAEAAAVoY3R0cwAAAAAAAACrAAAABQAABAAAAAABAAAIAAAAAAIAAAIAAAAAAQAACgAAAAABAAAEAAAAAAEAAAAAAAAAAQAAAgAAAAACAAAEAAAAAAEAAAoAAAAAAQAABAAAAAABAAAAAAAAAAEAAAIAAAAAAQAACAAAAAACAAACAAAAAAIAAAQAAAAAAQAABgAAAAABAAACAAAAAAIAAAQAAAAAAQAACgAAAAABAAAEAAAAAAEAAAAAAAAAAQAAAgAAAAABAAAEAAAAAAEAAAYAAAAAAQAAAgAAAAACAAAEAAAAAAEAAAgAAAAAAgAAAgAAAAACAAAEAAAAAAEAAAoAAAAAAQAABAAAAAABAAAAAAAAAAEAAAIAAAAAAQAABgAAAAABAAACAAAAAAEAAAQAAAAAAQAACgAAAAABAAAEAAAAAAEAAAAAAAAAAQAAAgAAAAABAAAEAAAAAAEAAAoAAAAAAQAABAAAAAABAAAAAAAAAAEAAAIAAAAAAQAABAAAAAABAAAGAAAAAAEAAAIAAAAAAwAABAAAAAABAAAKAAAAAAEAAAQAAAAAAQAAAAAAAAABAAACAAAAAAEAAAQAAAAAAQAACgAAAAABAAAEAAAAAAEAAAAAAAAAAQAAAgAAAAABAAAEAAAAAAEAAAoAAAAAAQAABAAAAAABAAAAAAAAAAEAAAIAAAAAAgAABAAAAAABAAAKAAAAAAEAAAQAAAAAAQAAAAAAAAABAAACAAAAAAEAAAQAAAAAAQAACAAAAAACAAACAAAAAAEAAAQAAAAAAQAACgAAAAABAAAEAAAAAAEAAAAAAAAAAQAAAgAAAAABAAAIAAAAAAIAAAIAAAAAAQAABgAAAAABAAACAAAAAAEAAAoAAAAAAQAABAAAAAABAAAAAAAAAAEAAAIAAAAAAQAABAAAAAABAAAGAAAAAAEAAAIAAAAAAQAABAAAAAABAAAKAAAAAAEAAAQAAAAAAQAAAAAAAAABAAACAAAAAAEAAAQAAAAAAQAACgAAAAABAAAEAAAAAAEAAAAAAAAAAQAAAgAAAAABAAAIAAAAAAIAAAIAAAAAAQAABAAAAAABAAAGAAAAAAEAAAIAAAAAAQAACgAAAAABAAAEAAAAAAEAAAAAAAAAAQAAAgAAAAABAAAGAAAAAAEAAAIAAAAAAgAABAAAAAABAAAIAAAAAAIAAAIAAAAAAQAABgAAAAABAAACAAAAAAEAAAYAAAAAAQAAAgAAAAABAAAKAAAAAAEAAAQAAAAAAQAAAAAAAAABAAACAAAAAAEAAAQAAAAAAQAACgAAAAABAAAEAAAAAAEAAAAAAAAAAQAAAgAAAAABAAAEAAAAAAEAAAYAAAAAAQAAAgAAAAACAAAEAAAAAAEAAAoAAAAAAQAABAAAAAABAAAAAAAAAAEAAAIAAAAAAgAABAAAAAABAAAGAAAAAAEAAAIAAAAAAQAACgAAAAABAAAEAAAAAAEAAAAAAAAAAQAAAgAAAAABAAAIAAAAAAIAAAIAAAAAAQAACgAAAAABAAAEAAAAAAEAAAAAAAAAAQAAAgAAAAABAAAIAAAAAAIAAAIAAAAAAQAACgAAAAABAAAEAAAAAAEAAAAAAAAAAQAAAgAAAAABAAAIAAAAAAIAAAIAAAAAAQAACgAAAAABAAAEAAAAAAEAAAAAAAAAAQAAAgAAAAABAAAIAAAAAAIAAAIAAAAABQAABAAAAAABAAAIAAAAAAIAAAIAAAAAAQAACgAAAAABAAAEAAAAAAEAAAAAAAAAAQAAAgAAAAABAAAKAAAAAAEAAAQAAAAAAQAAAAAAAAABAAACAAAAAAEAAAQAAAAAHHN0c2MAAAAAAAAAAQAAAAEAAADKAAAAAQAAAzxzdHN6AAAAAAAAAAAAAADKAAAFogAAAB0AAAAbAAAAHQAAAB0AAAAdAAAAFgAAABIAAAAWAAAAFgAAABQAAAAUAAAAIAAAABsAAAAwAAAAGgAAABQAAAAUAAAALwAAABgAAAAUAAAAHQAAAB0AAAAhAAAAEwAAABwAAAAdAAAAHwAAABkAAAAUAAAAFAAAAB4AAAAgAAAAEwAAAB0AAAAdAAAAHAAAABMAAAARAAAAHgAAAB8AAAAhAAAAFAAAABQAAAAUAAAAIQAAABQAAAAbAAAAIQAAABQAAAATAAAAFAAAAB8AAAAfAAAAIwAAABQAAAAUAAAAHgAAACwAAAAUAAAAHAAAAB0AAAAeAAAAIQAAABUAAAAUAAAAFAAAAB0AAAAqAAAAGQAAABQAAAATAAAAHgAAABUAAAAQAAAAEwAAABMAAAAeAAAAHwAAABwAAAAUAAAAEwAAABMAAAAdAAAAHQAAABYAAAASAAAAHgAAAB8AAAAUAAAAFAAAABMAAAAdAAAAFQAAABMAAAAhAAAAFAAAACEAAAAaAAAAFAAAABQAAAAeAAAAIwAAABQAAAAdAAAAIAAAABUAAAATAAAAEwAAAB4AAAAVAAAAFwAAABQAAAAUAAAAHgAAABMAAAARAAAAHgAAACMAAAAUAAAAFQAAABAAAAATAAAAEwAAACAAAAATAAAAHwAAAB4AAAAeAAAAFgAAABMAAAAhAAAAFAAAAB8AAAAUAAAAFQAAABAAAAAUAAAAEwAAAB0AAAAZAAAAEgAAABQAAAAUAAAAHgAAACQAAAATAAAAHgAAAB4AAAAZAAAAEgAAABQAAAAUAAAAHQAAAB0AAAAhAAAAEwAAABwAAAAUAAAAEwAAABMAAAAeAAAAFQAAABIAAAAXAAAAFwAAABQAAAAUAAAAHgAAABYAAAASAAAAFgAAABcAAAATAAAAEwAAAB4AAAATAAAAEwAAACAAAAAUAAAAEwAAABMAAAAdAAAAFQAAABMAAAAdAAAAHAAAABwAAAAdAAAAHQAAACEAAAAUAAAAFAAAAB0AAAASAAAAFAAAABQAAAAfAAAAFAAAABMAAAAUAAAAHgAAABRzdGNvAAAAAAAAAAEAAAAwAAAAYnVkdGEAAABabWV0YQAAAAAAAAAhaGRscgAAAAAAAAAAbWRpcmFwcGwAAAAAAAAAAAAAAAAtaWxzdAAAACWpdG9vAAAAHWRhdGEAAAABAAAAAExhdmY1Ny44My4xMDA=\" type=\"video/mp4\" />\n",
              "             </video>"
            ],
            "text/plain": [
              "<IPython.core.display.HTML object>"
            ]
          },
          "metadata": {
            "tags": []
          },
          "execution_count": 28
        }
      ]
    },
    {
      "metadata": {
        "id": "F64WAz_EHwqi",
        "colab_type": "text"
      },
      "cell_type": "markdown",
      "source": [
        "***\n",
        "## DQN"
      ]
    },
    {
      "metadata": {
        "id": "fof4z8kcHwqj",
        "colab_type": "text"
      },
      "cell_type": "markdown",
      "source": [
        "Let us assume here that $T=\\infty$.\n",
        "\n",
        "***\n",
        "__Question 5__ Let $\\pi$ be a policy, show that:\n",
        "\n",
        "\\begin{equation*}\n",
        "Q^{\\pi}(s,a)=E_{(s',a')\\sim p(.|s,a)}[r(s,a)+\\gamma Q^{\\pi}(s',a')]\n",
        "\\end{equation*}\n",
        "\n",
        "Then, show that for the optimal policy $\\pi^*$ (we assume its existence), the following holds: \n",
        "\n",
        "\\begin{equation*}\n",
        "Q^{*}(s,a)=E_{s'\\sim \\pi^*(.|s,a)}[r(s,a)+\\gamma\\max_{a'}Q^{*}(s',a')].\n",
        "\\end{equation*}\n",
        "Finally, deduce that a plausible objective is:\n",
        "\n",
        "\\begin{equation*}\n",
        "\\mathcal{L}(\\theta)=E_{s' \\sim \\pi^*(.|s,a)}\\Vert r+\\gamma\\max\\max_{a'}Q(s',a',\\theta)-Q(s,a,\\theta)\\Vert^{2}.\n",
        "\\end{equation*}\n",
        "\n",
        "\n"
      ]
    },
    {
      "metadata": {
        "id": "9TihW7VbHwqk",
        "colab_type": "text"
      },
      "cell_type": "markdown",
      "source": [
        "According to the context, we have: \\begin{equation*}Q^\\pi(s,a)=E_{p^{\\pi}}[\\sum_{t\\leq T}\\gamma^{t}r(s_{t},a_{t})|s_{0}=s,a_{0}=a] \\> \n",
        "\\end{equation*}. Here $T=\\infty$, so $$Q^\\pi(s,a) = E_{p^\\pi} [r(s,a)+\\gamma\\sum_{t=1}^\\infty \\gamma^{t-1} r(s_{t},a_{t})|s_{0} = s, a_{0} = a]$$. Taking time t = 1, it implies: $$Q^{\\pi}(s,a)=E_{(s',a')\\sim p(.|s,a)}[r(s,a)+\\gamma Q^{\\pi}(s',a')] $$.\n",
        "\n",
        "For the optimal policy $\\pi^*$, accroding to the above equation $Q^{\\pi}(s,a)=E_{(s',a')\\sim p(.|s,a)}[r(s,a)+\\gamma Q^{\\pi}(s',a')] $, only the part with $Q^\\pi (s',a')$ depends on $\\pi$. Therefore, \\begin{equation*}\n",
        "Q^{*}(s,a)=E_{s'\\sim \\pi^*(.|s,a)}[r(s,a)+\\gamma\\max_{a'}Q^{*}(s',a')].\n",
        "\\end{equation*}\n",
        "\n",
        "A plausible objective should minimize the distance between the Q-function we get and the optimal Q-function. Therefore, \\begin{equation*}\n",
        "\\mathcal{L}(\\theta)=E_{s' \\sim \\pi^*(.|s,a)}\\Vert r+\\gamma\\max\\max_{a'}Q(s',a',\\theta)-Q(s,a,\\theta)\\Vert^{2}.\n",
        "\\end{equation*}"
      ]
    },
    {
      "metadata": {
        "id": "vc1UBN7hHwql",
        "colab_type": "text"
      },
      "cell_type": "markdown",
      "source": [
        "***\n",
        "The DQN-learning algorithm relies on these derivations to train the parameters $\\theta$ of a Deep Neural Network:\n",
        "\n",
        "1. At the state $s_t$, select the action $a_t$ with best reward using $Q_t$ and store the results;\n",
        "\n",
        "2. Obtain the new state $s_{t+1}$ from the environment $p$;\n",
        "\n",
        "3. Store $(s_t,a_t,s_{t+1})$;\n",
        "\n",
        "4. Obtain $Q_{t+1}$ by minimizing  $\\mathcal{L}$ from a recovered batch from the previously stored results.\n",
        "\n",
        "***\n",
        "__Question 6__ Implement the class ```Memory``` that stores moves (in a replay buffer) via ```remember``` and provides a ```random_access``` to these. Specify a maximum memory size to avoid side effects. You can for example use a ```list()``` and set by default ```max_memory=100```."
      ]
    },
    {
      "metadata": {
        "id": "IkulaB8fHwqm",
        "colab_type": "code",
        "colab": {}
      },
      "cell_type": "code",
      "source": [
        "class Memory(object):\n",
        "    def __init__(self, max_memory=100):\n",
        "        self.max_memory = max_memory\n",
        "        self.memory = list()\n",
        "\n",
        "    def remember(self, m):\n",
        "        self.memory = self.memory[1-self.max_memory:] + [m]\n",
        "\n",
        "    def random_access(self):\n",
        "        return self.memory[np.random.randint(len(self.memory))]"
      ],
      "execution_count": 0,
      "outputs": []
    },
    {
      "metadata": {
        "id": "yzwj3TutHwqs",
        "colab_type": "text"
      },
      "cell_type": "markdown",
      "source": [
        "***\n",
        "The pipeline we will use for training is given below:"
      ]
    },
    {
      "metadata": {
        "id": "ydvZ5nhmHwqt",
        "colab_type": "code",
        "colab": {}
      },
      "cell_type": "code",
      "source": [
        "def train(agent,env,epoch,prefix=''):\n",
        "    # Number of won games\n",
        "    score = 0\n",
        "    loss = 0\n",
        "\n",
        "    for e in range(epoch):\n",
        "        # At each epoch, we restart to a fresh game and get the initial state\n",
        "        state = env.reset()\n",
        "        # This assumes that the games will terminate\n",
        "        game_over = False\n",
        "\n",
        "        win = 0\n",
        "        lose = 0\n",
        "\n",
        "        while not game_over:\n",
        "            # The agent performs an action\n",
        "            action = agent.act(state)\n",
        "\n",
        "            # Apply an action to the environment, get the next state, the reward\n",
        "            # and if the games end\n",
        "            prev_state = state\n",
        "            state, reward, game_over = env.act(action)\n",
        "\n",
        "            # Update the counters\n",
        "            if reward > 0:\n",
        "                win = win + reward\n",
        "            if reward < 0:\n",
        "                lose = lose -reward\n",
        "\n",
        "            # Apply the reinforcement strategy\n",
        "            loss = agent.reinforce(prev_state, state,  action, reward, game_over)\n",
        "\n",
        "        # Save as a mp4\n",
        "        if e % 10 == 0:\n",
        "            env.draw(prefix+str(e))\n",
        "\n",
        "        # Update stats\n",
        "        score += win-lose\n",
        "\n",
        "        print(\"Epoch {:03d}/{:03d} | Loss {:.4f} | Win/lose count {}/{} ({})\"\n",
        "              .format(e, epoch, loss, win, lose, win-lose))\n",
        "        agent.save(name_weights=prefix+'model.h5',name_model=prefix+'model.json')"
      ],
      "execution_count": 0,
      "outputs": []
    },
    {
      "metadata": {
        "id": "Ib3tczheHwqy",
        "colab_type": "text"
      },
      "cell_type": "markdown",
      "source": [
        "***\n",
        "__Question 7__ Implement the DQN training algorithm using a cascade of fully connected layers. You can use different learning rate, batch size or memory size parameters. In particular, the loss might oscillate while the player will start to win the games. You have to find a good criterium."
      ]
    },
    {
      "metadata": {
        "id": "9O9torWdHwqz",
        "colab_type": "code",
        "colab": {}
      },
      "cell_type": "code",
      "source": [
        "class DQN(Agent):\n",
        "    def __init__(self, grid_size,  epsilon = 0.1, memory_size=100, batch_size = 16,n_state=2):\n",
        "        super(DQN, self).__init__(epsilon = epsilon)\n",
        "\n",
        "        # Discount for Q learning\n",
        "        self.discount = 0.99\n",
        "        \n",
        "        self.grid_size = grid_size\n",
        "        \n",
        "        # number of state\n",
        "        self.n_state = n_state\n",
        "\n",
        "        # Memory\n",
        "        self.memory = Memory(memory_size)\n",
        "        \n",
        "        # Batch size when learning\n",
        "        self.batch_size = batch_size\n",
        "\n",
        "    def learned_act(self, s):\n",
        "        return np.argmax(self.model.predict(s.reshape([1,s.shape[0],s.shape[1],s.shape[2]]))[0,:])\n",
        "\n",
        "    def reinforce(self, s_, n_s_, a_, r_, game_over_):\n",
        "        # Two steps: first memorize the states, second learn from the pool\n",
        "\n",
        "        self.memory.remember([s_, n_s_, a_, r_, game_over_])\n",
        "        \n",
        "        input_states = np.zeros((self.batch_size, 5,5,self.n_state))\n",
        "        target_q = np.zeros((self.batch_size, 4))\n",
        "        \n",
        "        for i in range(self.batch_size):\n",
        "            ######## FILL IN\n",
        "            s_, n_s_, a_, r_, game_over_ = self.memory.random_access()\n",
        "            target_q[i] =self.model.predict(s_.reshape([1,s_.shape[0],s_.shape[1],s_.shape[2]]))[0]\n",
        "            \n",
        "            if game_over_:\n",
        "                ######## FILL IN\n",
        "                input_states[i] = s_\n",
        "                target_q[i,a_] = r_\n",
        "            else:\n",
        "                ######## FILL IN\n",
        "                input_states[i] = s_\n",
        "                target_q[i,a_] = r_  + self.discount*max(self.model.predict(n_s_.reshape([1,s_.shape[0],s_.shape[1],s_.shape[2]]))[0])\n",
        "        ######## FILL IN\n",
        "        # HINT: Clip the target to avoid exploiding gradients.. -- clipping is a bit tighter\n",
        "        target_q = np.clip(target_q, -3, 3)\n",
        "\n",
        "        l = self.model.train_on_batch(input_states, target_q)\n",
        "\n",
        "\n",
        "        return l\n",
        "\n",
        "    def save(self,name_weights='model.h5',name_model='model.json'):\n",
        "        self.model.save_weights(name_weights, overwrite=True)\n",
        "        with open(name_model, \"w\") as outfile:\n",
        "            json.dump(self.model.to_json(), outfile)\n",
        "            \n",
        "    def load(self,name_weights='model.h5',name_model='model.json'):\n",
        "        with open(name_model, \"r\") as jfile:\n",
        "            model = model_from_json(json.load(jfile))\n",
        "        model.load_weights(name_weights)\n",
        "        model.compile(\"sgd\", \"mse\")\n",
        "        self.model = model\n",
        "\n",
        "            \n",
        "class DQN_FC(DQN):\n",
        "    def __init__(self, *args, lr=0.1,**kwargs):\n",
        "        super(DQN_FC, self).__init__( *args,**kwargs)\n",
        "        \n",
        "        # NN Model\n",
        "        ####### FILL IN\n",
        "        model = Sequential()\n",
        "        model.add(Reshape((5*5*2, ), input_shape = (5, 5, 2)))\n",
        "        model.add(Dense(32, activation = \"relu\"))\n",
        "        model.add(Dense(4))\n",
        "        \n",
        "        model.compile(sgd(lr=lr, decay=1e-4, momentum=0.0), \"mse\")\n",
        "        self.model = model\n",
        "        "
      ],
      "execution_count": 0,
      "outputs": []
    },
    {
      "metadata": {
        "id": "hFdgf-KfHwq2",
        "colab_type": "code",
        "colab": {
          "base_uri": "https://localhost:8080/",
          "height": 1919
        },
        "outputId": "3c090fb9-a921-4c58-f1b9-4ae74f99ca3b"
      },
      "cell_type": "code",
      "source": [
        "env = Environment(grid_size=size, max_time=T, temperature=0.3)\n",
        "agent = DQN_FC(size, lr=.1, epsilon = 0.1, memory_size=2000, batch_size = 32)\n",
        "train(agent, env, epochs_train, prefix='fc_train')\n",
        "HTML(display_videos('fc_train10.mp4'))"
      ],
      "execution_count": 36,
      "outputs": [
        {
          "output_type": "stream",
          "text": [
            "Epoch 000/100 | Loss 0.0142 | Win/lose count 2.5/1.0 (1.5)\n",
            "Epoch 001/100 | Loss 0.0062 | Win/lose count 5.5/4.0 (1.5)\n",
            "Epoch 002/100 | Loss 0.0084 | Win/lose count 0.5/2.0 (-1.5)\n",
            "Epoch 003/100 | Loss 0.0024 | Win/lose count 3.0/4.0 (-1.0)\n",
            "Epoch 004/100 | Loss 0.0415 | Win/lose count 2.0/5.0 (-3.0)\n",
            "Epoch 005/100 | Loss 0.0072 | Win/lose count 3.0/3.0 (0.0)\n",
            "Epoch 006/100 | Loss 0.0480 | Win/lose count 2.0/6.0 (-4.0)\n",
            "Epoch 007/100 | Loss 0.0021 | Win/lose count 3.5/5.0 (-1.5)\n",
            "Epoch 008/100 | Loss 0.0050 | Win/lose count 3.5/2.0 (1.5)\n",
            "Epoch 009/100 | Loss 0.0509 | Win/lose count 3.5/9.0 (-5.5)\n",
            "Epoch 010/100 | Loss 0.0195 | Win/lose count 4.5/5.0 (-0.5)\n",
            "Epoch 011/100 | Loss 0.0059 | Win/lose count 1.5/3.0 (-1.5)\n",
            "Epoch 012/100 | Loss 0.0073 | Win/lose count 4.5/3.0 (1.5)\n",
            "Epoch 013/100 | Loss 0.0252 | Win/lose count 2.0/5.0 (-3.0)\n",
            "Epoch 014/100 | Loss 0.0349 | Win/lose count 1.0/5.0 (-4.0)\n",
            "Epoch 015/100 | Loss 0.0040 | Win/lose count 6.0/5.0 (1.0)\n",
            "Epoch 016/100 | Loss 0.0078 | Win/lose count 4.5/5.0 (-0.5)\n",
            "Epoch 017/100 | Loss 0.0109 | Win/lose count 2.5/2.0 (0.5)\n",
            "Epoch 018/100 | Loss 0.0074 | Win/lose count 4.0/1.0 (3.0)\n",
            "Epoch 019/100 | Loss 0.0036 | Win/lose count 5.0/2.0 (3.0)\n",
            "Epoch 020/100 | Loss 0.0334 | Win/lose count 3.5/6.0 (-2.5)\n",
            "Epoch 021/100 | Loss 0.0075 | Win/lose count 2.5/4.0 (-1.5)\n",
            "Epoch 022/100 | Loss 0.0031 | Win/lose count 5.0/3.0 (2.0)\n",
            "Epoch 023/100 | Loss 0.0051 | Win/lose count 6.5/2.0 (4.5)\n",
            "Epoch 024/100 | Loss 0.0044 | Win/lose count 3.5/5.0 (-1.5)\n",
            "Epoch 025/100 | Loss 0.0096 | Win/lose count 1.5/3.0 (-1.5)\n",
            "Epoch 026/100 | Loss 0.0095 | Win/lose count 2.0/2.0 (0.0)\n",
            "Epoch 027/100 | Loss 0.0135 | Win/lose count 9.0/6.0 (3.0)\n",
            "Epoch 028/100 | Loss 0.0098 | Win/lose count 4.5/0 (4.5)\n",
            "Epoch 029/100 | Loss 0.0025 | Win/lose count 7.5/5.0 (2.5)\n",
            "Epoch 030/100 | Loss 0.0080 | Win/lose count 3.5/2.0 (1.5)\n",
            "Epoch 031/100 | Loss 0.0094 | Win/lose count 0.5/2.0 (-1.5)\n",
            "Epoch 032/100 | Loss 0.0049 | Win/lose count 4.0/3.0 (1.0)\n",
            "Epoch 033/100 | Loss 0.0098 | Win/lose count 4.0/3.0 (1.0)\n",
            "Epoch 034/100 | Loss 0.0079 | Win/lose count 3.0/2.0 (1.0)\n",
            "Epoch 035/100 | Loss 0.0026 | Win/lose count 5.5/0 (5.5)\n",
            "Epoch 036/100 | Loss 0.0034 | Win/lose count 4.0/1.0 (3.0)\n",
            "Epoch 037/100 | Loss 0.0036 | Win/lose count 2.5/3.0 (-0.5)\n",
            "Epoch 038/100 | Loss 0.0031 | Win/lose count 2.0/3.0 (-1.0)\n",
            "Epoch 039/100 | Loss 0.0115 | Win/lose count 5.0/4.0 (1.0)\n",
            "Epoch 040/100 | Loss 0.0384 | Win/lose count 7.0/4.0 (3.0)\n",
            "Epoch 041/100 | Loss 0.0094 | Win/lose count 3.0/2.0 (1.0)\n",
            "Epoch 042/100 | Loss 0.0113 | Win/lose count 5.0/2.0 (3.0)\n",
            "Epoch 043/100 | Loss 0.0020 | Win/lose count 6.0/0 (6.0)\n",
            "Epoch 044/100 | Loss 0.0085 | Win/lose count 3.5/1.0 (2.5)\n",
            "Epoch 045/100 | Loss 0.0427 | Win/lose count 17.0/2.0 (15.0)\n",
            "Epoch 046/100 | Loss 0.0032 | Win/lose count 4.5/4.0 (0.5)\n",
            "Epoch 047/100 | Loss 0.0045 | Win/lose count 2.0/4.0 (-2.0)\n",
            "Epoch 048/100 | Loss 0.0057 | Win/lose count 9.5/3.0 (6.5)\n",
            "Epoch 049/100 | Loss 0.0080 | Win/lose count 4.5/3.0 (1.5)\n",
            "Epoch 050/100 | Loss 0.0027 | Win/lose count 2.5/2.0 (0.5)\n",
            "Epoch 051/100 | Loss 0.0090 | Win/lose count 3.0/1.0 (2.0)\n",
            "Epoch 052/100 | Loss 0.0064 | Win/lose count 16.5/2.0 (14.5)\n",
            "Epoch 053/100 | Loss 0.0052 | Win/lose count 7.0/3.0 (4.0)\n",
            "Epoch 054/100 | Loss 0.0025 | Win/lose count 2.0/1.0 (1.0)\n",
            "Epoch 055/100 | Loss 0.0018 | Win/lose count 6.5/1.0 (5.5)\n",
            "Epoch 056/100 | Loss 0.0090 | Win/lose count 8.5/2.0 (6.5)\n",
            "Epoch 057/100 | Loss 0.0121 | Win/lose count 9.0/2.0 (7.0)\n",
            "Epoch 058/100 | Loss 0.0029 | Win/lose count 2.5/2.0 (0.5)\n",
            "Epoch 059/100 | Loss 0.0038 | Win/lose count 4.0/1.0 (3.0)\n",
            "Epoch 060/100 | Loss 0.0057 | Win/lose count 7.0/2.0 (5.0)\n",
            "Epoch 061/100 | Loss 0.0053 | Win/lose count 9.5/2.0 (7.5)\n",
            "Epoch 062/100 | Loss 0.0019 | Win/lose count 13.0/5.0 (8.0)\n",
            "Epoch 063/100 | Loss 0.0012 | Win/lose count 12.5/3.0 (9.5)\n",
            "Epoch 064/100 | Loss 0.0070 | Win/lose count 19.0/1.0 (18.0)\n",
            "Epoch 065/100 | Loss 0.0545 | Win/lose count 6.0/2.0 (4.0)\n",
            "Epoch 066/100 | Loss 0.0069 | Win/lose count 4.0/2.0 (2.0)\n",
            "Epoch 067/100 | Loss 0.0043 | Win/lose count 12.5/3.0 (9.5)\n",
            "Epoch 068/100 | Loss 0.0022 | Win/lose count 7.0/2.0 (5.0)\n",
            "Epoch 069/100 | Loss 0.0040 | Win/lose count 13.0/7.0 (6.0)\n",
            "Epoch 070/100 | Loss 0.0036 | Win/lose count 9.5/0 (9.5)\n",
            "Epoch 071/100 | Loss 0.0066 | Win/lose count 18.5/1.0 (17.5)\n",
            "Epoch 072/100 | Loss 0.0034 | Win/lose count 10.5/4.0 (6.5)\n",
            "Epoch 073/100 | Loss 0.0628 | Win/lose count 12.0/3.0 (9.0)\n",
            "Epoch 074/100 | Loss 0.0039 | Win/lose count 10.0/2.0 (8.0)\n",
            "Epoch 075/100 | Loss 0.0557 | Win/lose count 7.0/5.0 (2.0)\n",
            "Epoch 076/100 | Loss 0.0046 | Win/lose count 14.5/3.0 (11.5)\n",
            "Epoch 077/100 | Loss 0.0072 | Win/lose count 17.5/3.0 (14.5)\n",
            "Epoch 078/100 | Loss 0.0034 | Win/lose count 11.0/2.0 (9.0)\n",
            "Epoch 079/100 | Loss 0.0027 | Win/lose count 17.5/2.0 (15.5)\n",
            "Epoch 080/100 | Loss 0.0038 | Win/lose count 11.0/4.0 (7.0)\n",
            "Epoch 081/100 | Loss 0.0034 | Win/lose count 13.0/1.0 (12.0)\n",
            "Epoch 082/100 | Loss 0.0053 | Win/lose count 13.5/2.0 (11.5)\n",
            "Epoch 083/100 | Loss 0.0028 | Win/lose count 7.5/3.0 (4.5)\n",
            "Epoch 084/100 | Loss 0.0054 | Win/lose count 8.5/4.0 (4.5)\n",
            "Epoch 085/100 | Loss 0.0061 | Win/lose count 6.5/4.0 (2.5)\n",
            "Epoch 086/100 | Loss 0.0048 | Win/lose count 16.0/3.0 (13.0)\n",
            "Epoch 087/100 | Loss 0.0041 | Win/lose count 2.5/0 (2.5)\n",
            "Epoch 088/100 | Loss 0.0042 | Win/lose count 14.5/2.0 (12.5)\n",
            "Epoch 089/100 | Loss 0.0032 | Win/lose count 3.0/1.0 (2.0)\n",
            "Epoch 090/100 | Loss 0.0050 | Win/lose count 9.5/2.0 (7.5)\n",
            "Epoch 091/100 | Loss 0.0049 | Win/lose count 17.0/1.0 (16.0)\n",
            "Epoch 092/100 | Loss 0.0031 | Win/lose count 7.5/3.0 (4.5)\n",
            "Epoch 093/100 | Loss 0.0070 | Win/lose count 12.0/2.0 (10.0)\n",
            "Epoch 094/100 | Loss 0.0028 | Win/lose count 3.0/2.0 (1.0)\n",
            "Epoch 095/100 | Loss 0.0050 | Win/lose count 19.0/1.0 (18.0)\n",
            "Epoch 096/100 | Loss 0.0038 | Win/lose count 10.5/4.0 (6.5)\n",
            "Epoch 097/100 | Loss 0.0046 | Win/lose count 13.0/2.0 (11.0)\n",
            "Epoch 098/100 | Loss 0.0041 | Win/lose count 7.0/2.0 (5.0)\n",
            "Epoch 099/100 | Loss 0.0052 | Win/lose count 11.0/4.0 (7.0)\n"
          ],
          "name": "stdout"
        },
        {
          "output_type": "execute_result",
          "data": {
            "text/html": [
              "<video alt=\"test\" controls>\n",
              "                <source src=\"data:video/mp4;base64,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\" type=\"video/mp4\" />\n",
              "             </video>"
            ],
            "text/plain": [
              "<IPython.core.display.HTML object>"
            ]
          },
          "metadata": {
            "tags": []
          },
          "execution_count": 36
        }
      ]
    },
    {
      "metadata": {
        "id": "edfzIgfpHwq5",
        "colab_type": "text"
      },
      "cell_type": "markdown",
      "source": [
        "***\n",
        "***\n",
        "__Question 8__ Implement the DQN training algorithm using a CNN (for example, 2 convolutional layers and one final fully connected layer)."
      ]
    },
    {
      "metadata": {
        "id": "zolSlJr0Hwq6",
        "colab_type": "code",
        "colab": {}
      },
      "cell_type": "code",
      "source": [
        "from keras.layers import Flatten\n",
        "class DQN_CNN(DQN):\n",
        "    def __init__(self, *args,lr=0.1,**kwargs):\n",
        "        super(DQN_CNN, self).__init__(*args,**kwargs)\n",
        "        \n",
        "        ###### FILL IN\n",
        "        model = Sequential()\n",
        "        model.add(Conv2D(64,(2,2),input_shape=(5,5,self.n_state,),activation='relu'))\n",
        "        model.add(Conv2D(32,(2,2),activation='relu'))\n",
        "        model.add(Flatten())\n",
        "        model.add(Dense(32, activation = \"relu\"))\n",
        "        model.add(Dense(4))\n",
        "        \n",
        "        model.compile(sgd(lr=lr, decay=1e-4, momentum=0.0), \"mse\")\n",
        "        self.model = model"
      ],
      "execution_count": 0,
      "outputs": []
    },
    {
      "metadata": {
        "id": "G03jgdV5Hwq8",
        "colab_type": "code",
        "colab": {
          "base_uri": "https://localhost:8080/",
          "height": 2042
        },
        "outputId": "06d80a7d-5494-45ef-a266-f8ae937be2d8"
      },
      "cell_type": "code",
      "source": [
        "env = Environment(grid_size=size, max_time=T, temperature=0.3)\n",
        "agent = DQN_CNN(size, lr=.1, epsilon = 0.1, memory_size=2000, batch_size = 32)\n",
        "train(agent,env,epochs_train,prefix='cnn_train')\n",
        "HTML(display_videos('cnn_train10.mp4'))"
      ],
      "execution_count": 40,
      "outputs": [
        {
          "output_type": "stream",
          "text": [
            "Epoch 000/100 | Loss 0.0037 | Win/lose count 4.0/6.0 (-2.0)\n",
            "Epoch 001/100 | Loss 0.0043 | Win/lose count 5.5/4.0 (1.5)\n",
            "Epoch 002/100 | Loss 0.0035 | Win/lose count 4.0/1.0 (3.0)\n",
            "Epoch 003/100 | Loss 0.0072 | Win/lose count 3.0/1.0 (2.0)\n",
            "Epoch 004/100 | Loss 0.0071 | Win/lose count 3.0/2.0 (1.0)\n",
            "Epoch 005/100 | Loss 0.0024 | Win/lose count 4.5/2.0 (2.5)\n",
            "Epoch 006/100 | Loss 0.0023 | Win/lose count 4.0/5.0 (-1.0)\n",
            "Epoch 007/100 | Loss 0.0639 | Win/lose count 6.0/5.0 (1.0)\n",
            "Epoch 008/100 | Loss 0.0015 | Win/lose count 6.0/1.0 (5.0)\n",
            "Epoch 009/100 | Loss 0.0069 | Win/lose count 8.5/3.0 (5.5)\n",
            "Epoch 010/100 | Loss 0.0058 | Win/lose count 5.0/1.0 (4.0)\n",
            "Epoch 011/100 | Loss 0.0646 | Win/lose count 10.5/5.0 (5.5)\n",
            "Epoch 012/100 | Loss 0.0036 | Win/lose count 6.5/2.0 (4.5)\n",
            "Epoch 013/100 | Loss 0.0051 | Win/lose count 4.0/1.0 (3.0)\n",
            "Epoch 014/100 | Loss 0.0012 | Win/lose count 9.5/0 (9.5)\n",
            "Epoch 015/100 | Loss 0.0023 | Win/lose count 3.0/3.0 (0.0)\n",
            "Epoch 016/100 | Loss 0.1027 | Win/lose count 12.5/3.0 (9.5)\n",
            "Epoch 017/100 | Loss 0.0529 | Win/lose count 7.5/1.0 (6.5)\n",
            "Epoch 018/100 | Loss 0.0606 | Win/lose count 11.0/3.0 (8.0)\n",
            "Epoch 019/100 | Loss 0.0113 | Win/lose count 8.0/4.0 (4.0)\n",
            "Epoch 020/100 | Loss 0.0039 | Win/lose count 11.5/3.0 (8.5)\n",
            "Epoch 021/100 | Loss 0.0039 | Win/lose count 9.0/1.0 (8.0)\n",
            "Epoch 022/100 | Loss 0.0036 | Win/lose count 14.5/6.0 (8.5)\n",
            "Epoch 023/100 | Loss 0.0460 | Win/lose count 3.5/2.0 (1.5)\n",
            "Epoch 024/100 | Loss 0.0506 | Win/lose count 6.5/4.0 (2.5)\n",
            "Epoch 025/100 | Loss 0.0021 | Win/lose count 5.5/0 (5.5)\n",
            "Epoch 026/100 | Loss 0.0019 | Win/lose count 6.5/4.0 (2.5)\n",
            "Epoch 027/100 | Loss 0.0021 | Win/lose count 15.5/4.0 (11.5)\n",
            "Epoch 028/100 | Loss 0.0027 | Win/lose count 13.0/4.0 (9.0)\n",
            "Epoch 029/100 | Loss 0.0027 | Win/lose count 18.5/2.0 (16.5)\n",
            "Epoch 030/100 | Loss 0.0040 | Win/lose count 17.0/2.0 (15.0)\n",
            "Epoch 031/100 | Loss 0.0018 | Win/lose count 6.0/1.0 (5.0)\n",
            "Epoch 032/100 | Loss 0.0014 | Win/lose count 21.0/2.0 (19.0)\n",
            "Epoch 033/100 | Loss 0.0018 | Win/lose count 8.0/1.0 (7.0)\n",
            "Epoch 034/100 | Loss 0.0025 | Win/lose count 16.0/5.0 (11.0)\n",
            "Epoch 035/100 | Loss 0.0028 | Win/lose count 4.0/0 (4.0)\n",
            "Epoch 036/100 | Loss 0.0034 | Win/lose count 17.5/2.0 (15.5)\n",
            "Epoch 037/100 | Loss 0.0044 | Win/lose count 23.5/5.0 (18.5)\n",
            "Epoch 038/100 | Loss 0.0560 | Win/lose count 21.5/2.0 (19.5)\n",
            "Epoch 039/100 | Loss 0.0594 | Win/lose count 13.5/3.0 (10.5)\n",
            "Epoch 040/100 | Loss 0.0025 | Win/lose count 9.0/3.0 (6.0)\n",
            "Epoch 041/100 | Loss 0.0031 | Win/lose count 16.0/3.0 (13.0)\n",
            "Epoch 042/100 | Loss 0.0025 | Win/lose count 22.0/1.0 (21.0)\n",
            "Epoch 043/100 | Loss 0.0026 | Win/lose count 13.0/1.0 (12.0)\n",
            "Epoch 044/100 | Loss 0.0112 | Win/lose count 21.5/3.0 (18.5)\n",
            "Epoch 045/100 | Loss 0.0081 | Win/lose count 17.5/2.0 (15.5)\n",
            "Epoch 046/100 | Loss 0.0031 | Win/lose count 23.0/0 (23.0)\n",
            "Epoch 047/100 | Loss 0.0023 | Win/lose count 7.0/3.0 (4.0)\n",
            "Epoch 048/100 | Loss 0.0015 | Win/lose count 3.5/3.0 (0.5)\n",
            "Epoch 049/100 | Loss 0.0010 | Win/lose count 11.5/3.0 (8.5)\n",
            "Epoch 050/100 | Loss 0.0037 | Win/lose count 14.5/2.0 (12.5)\n",
            "Epoch 051/100 | Loss 0.0027 | Win/lose count 5.5/0 (5.5)\n",
            "Epoch 052/100 | Loss 0.0025 | Win/lose count 12.5/5.0 (7.5)\n",
            "Epoch 053/100 | Loss 0.0027 | Win/lose count 11.5/2.0 (9.5)\n",
            "Epoch 054/100 | Loss 0.0035 | Win/lose count 16.5/0 (16.5)\n",
            "Epoch 055/100 | Loss 0.0017 | Win/lose count 19.5/1.0 (18.5)\n",
            "Epoch 056/100 | Loss 0.0035 | Win/lose count 12.0/1.0 (11.0)\n",
            "Epoch 057/100 | Loss 0.0020 | Win/lose count 15.5/4.0 (11.5)\n",
            "Epoch 058/100 | Loss 0.0026 | Win/lose count 3.5/3.0 (0.5)\n",
            "Epoch 059/100 | Loss 0.0026 | Win/lose count 14.0/3.0 (11.0)\n",
            "Epoch 060/100 | Loss 0.0568 | Win/lose count 16.5/3.0 (13.5)\n",
            "Epoch 061/100 | Loss 0.0024 | Win/lose count 15.5/7.0 (8.5)\n",
            "Epoch 062/100 | Loss 0.0501 | Win/lose count 13.0/1.0 (12.0)\n",
            "Epoch 063/100 | Loss 0.0023 | Win/lose count 18.0/3.0 (15.0)\n",
            "Epoch 064/100 | Loss 0.0025 | Win/lose count 12.0/3.0 (9.0)\n",
            "Epoch 065/100 | Loss 0.1006 | Win/lose count 16.5/5.0 (11.5)\n",
            "Epoch 066/100 | Loss 0.0495 | Win/lose count 23.0/2.0 (21.0)\n",
            "Epoch 067/100 | Loss 0.0031 | Win/lose count 6.5/1.0 (5.5)\n",
            "Epoch 068/100 | Loss 0.0030 | Win/lose count 10.0/2.0 (8.0)\n",
            "Epoch 069/100 | Loss 0.0035 | Win/lose count 15.5/6.0 (9.5)\n",
            "Epoch 070/100 | Loss 0.0523 | Win/lose count 7.5/1.0 (6.5)\n",
            "Epoch 071/100 | Loss 0.0505 | Win/lose count 17.5/2.0 (15.5)\n",
            "Epoch 072/100 | Loss 0.0016 | Win/lose count 22.5/2.0 (20.5)\n",
            "Epoch 073/100 | Loss 0.0013 | Win/lose count 11.0/5.0 (6.0)\n",
            "Epoch 074/100 | Loss 0.0469 | Win/lose count 18.5/3.0 (15.5)\n",
            "Epoch 075/100 | Loss 0.0096 | Win/lose count 19.5/3.0 (16.5)\n",
            "Epoch 076/100 | Loss 0.0023 | Win/lose count 18.5/2.0 (16.5)\n",
            "Epoch 077/100 | Loss 0.0555 | Win/lose count 19.0/6.0 (13.0)\n",
            "Epoch 078/100 | Loss 0.0021 | Win/lose count 18.5/2.0 (16.5)\n",
            "Epoch 079/100 | Loss 0.0025 | Win/lose count 21.5/4.0 (17.5)\n",
            "Epoch 080/100 | Loss 0.0042 | Win/lose count 14.0/5.0 (9.0)\n",
            "Epoch 081/100 | Loss 0.0027 | Win/lose count 23.5/5.0 (18.5)\n",
            "Epoch 082/100 | Loss 0.0126 | Win/lose count 4.5/1.0 (3.5)\n",
            "Epoch 083/100 | Loss 0.0035 | Win/lose count 19.5/5.0 (14.5)\n",
            "Epoch 084/100 | Loss 0.0017 | Win/lose count 14.0/6.0 (8.0)\n",
            "Epoch 085/100 | Loss 0.0012 | Win/lose count 20.5/3.0 (17.5)\n",
            "Epoch 086/100 | Loss 0.0040 | Win/lose count 10.0/4.0 (6.0)\n",
            "Epoch 087/100 | Loss 0.1195 | Win/lose count 20.0/7.0 (13.0)\n",
            "Epoch 088/100 | Loss 0.0022 | Win/lose count 20.5/3.0 (17.5)\n",
            "Epoch 089/100 | Loss 0.0053 | Win/lose count 21.0/5.0 (16.0)\n",
            "Epoch 090/100 | Loss 0.0025 | Win/lose count 18.5/4.0 (14.5)\n",
            "Epoch 091/100 | Loss 0.0022 | Win/lose count 17.0/2.0 (15.0)\n",
            "Epoch 092/100 | Loss 0.0048 | Win/lose count 18.0/5.0 (13.0)\n",
            "Epoch 093/100 | Loss 0.0032 | Win/lose count 21.0/3.0 (18.0)\n",
            "Epoch 094/100 | Loss 0.0648 | Win/lose count 19.0/2.0 (17.0)\n",
            "Epoch 095/100 | Loss 0.0088 | Win/lose count 12.5/2.0 (10.5)\n",
            "Epoch 096/100 | Loss 0.0474 | Win/lose count 23.0/1.0 (22.0)\n",
            "Epoch 097/100 | Loss 0.0021 | Win/lose count 19.5/3.0 (16.5)\n",
            "Epoch 098/100 | Loss 0.0569 | Win/lose count 18.5/1.0 (17.5)\n",
            "Epoch 099/100 | Loss 0.0012 | Win/lose count 15.0/2.0 (13.0)\n"
          ],
          "name": "stdout"
        },
        {
          "output_type": "execute_result",
          "data": {
            "text/html": [
              "<video alt=\"test\" controls>\n",
              "                <source src=\"data:video/mp4;base64,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\" type=\"video/mp4\" />\n",
              "             </video>"
            ],
            "text/plain": [
              "<IPython.core.display.HTML object>"
            ]
          },
          "metadata": {
            "tags": []
          },
          "execution_count": 40
        }
      ]
    },
    {
      "metadata": {
        "id": "njha-lDHHwq_",
        "colab_type": "text"
      },
      "cell_type": "markdown",
      "source": [
        "***\n",
        "***\n",
        "__Question 9__ Test both algorithms and compare their performances. Which issue(s) do you observe? Observe also different behaviors by changing the temperature."
      ]
    },
    {
      "metadata": {
        "id": "N2OGmiqKrsOu",
        "colab_type": "code",
        "colab": {
          "base_uri": "https://localhost:8080/",
          "height": 1242
        },
        "outputId": "09e6225b-f5f5-499f-d91c-4f5afc87204f"
      },
      "cell_type": "code",
      "source": [
        "env = Environment(grid_size=size, max_time=T,temperature=0.5)\n",
        "agent_cnn = DQN_CNN(size, lr=.1, epsilon = 0.1, memory_size=2000, batch_size = 32)\n",
        "agent_cnn.load(name_weights='cnn_trainmodel.h5',name_model='cnn_trainmodel.json')\n",
        "\n",
        "agent_fc = DQN_FC(size, lr=.1, epsilon = 0.1, memory_size=2000, batch_size = 32)\n",
        "agent_cnn.load(name_weights='fc_trainmodel.h5',name_model='fc_trainmodel.json')\n",
        "print('Test of the CNN')\n",
        "test(agent_cnn,env,epochs_test,prefix='cnn_test')\n",
        "print('Test of the FC')\n",
        "test(agent_fc,env,epochs_test,prefix='fc_test')"
      ],
      "execution_count": 43,
      "outputs": [
        {
          "output_type": "stream",
          "text": [
            "Test of the CNN\n",
            "Win/lose count 4.5/1.0. Average score (3.5)\n",
            "Win/lose count 1.0/0. Average score (2.25)\n",
            "Win/lose count 16.0/0. Average score (6.833333333333333)\n",
            "Win/lose count 13.0/1.0. Average score (8.125)\n",
            "Win/lose count 11.0/0. Average score (8.7)\n",
            "Win/lose count 6.5/2.0. Average score (8.0)\n",
            "Win/lose count 5.5/0. Average score (7.642857142857143)\n",
            "Win/lose count 23.5/0. Average score (9.625)\n",
            "Win/lose count 2.0/0. Average score (8.777777777777779)\n",
            "Win/lose count 8.5/0. Average score (8.75)\n",
            "Win/lose count 4.5/0. Average score (8.363636363636363)\n",
            "Win/lose count 25.0/0. Average score (9.75)\n",
            "Win/lose count 0/0. Average score (9.0)\n",
            "Win/lose count 3.0/0. Average score (8.571428571428571)\n",
            "Win/lose count 7.0/0. Average score (8.466666666666667)\n",
            "Win/lose count 20.5/0. Average score (9.21875)\n",
            "Win/lose count 16.0/0. Average score (9.617647058823529)\n",
            "Win/lose count 2.5/0. Average score (9.222222222222221)\n",
            "Win/lose count 20.5/1.0. Average score (9.763157894736842)\n",
            "Win/lose count 19.0/0. Average score (10.225)\n",
            "Win/lose count 3.5/0. Average score (9.904761904761905)\n",
            "Win/lose count 10.5/1.0. Average score (9.886363636363637)\n",
            "Win/lose count 17.5/1.0. Average score (10.173913043478262)\n",
            "Win/lose count 21.5/0. Average score (10.645833333333334)\n",
            "Win/lose count 13.0/0. Average score (10.74)\n",
            "Win/lose count 4.5/0. Average score (10.5)\n",
            "Win/lose count 14.0/1.0. Average score (10.592592592592593)\n",
            "Win/lose count 9.0/1.0. Average score (10.5)\n",
            "Win/lose count 17.5/0. Average score (10.741379310344827)\n",
            "Win/lose count 5.0/0. Average score (10.55)\n",
            "Win/lose count 10.0/1.0. Average score (10.5)\n",
            "Win/lose count 5.0/0. Average score (10.328125)\n",
            "Win/lose count 10.0/0. Average score (10.318181818181818)\n",
            "Final score: 10.318181818181818\n",
            "Test of the FC\n",
            "Win/lose count 0.5/0. Average score (0.5)\n",
            "Win/lose count 0.5/0. Average score (0.5)\n",
            "Win/lose count 1.0/0. Average score (0.6666666666666666)\n",
            "Win/lose count 1.0/1.0. Average score (0.5)\n",
            "Win/lose count 1.0/0. Average score (0.6)\n",
            "Win/lose count 2.0/0. Average score (0.8333333333333334)\n",
            "Win/lose count 0.5/0. Average score (0.7857142857142857)\n",
            "Win/lose count 0.5/0. Average score (0.75)\n",
            "Win/lose count 1.0/2.0. Average score (0.5555555555555556)\n",
            "Win/lose count 0.5/0. Average score (0.55)\n",
            "Win/lose count 1.5/2.0. Average score (0.45454545454545453)\n",
            "Win/lose count 0.5/1.0. Average score (0.375)\n",
            "Win/lose count 1.0/1.0. Average score (0.34615384615384615)\n",
            "Win/lose count 1.0/1.0. Average score (0.32142857142857145)\n",
            "Win/lose count 0.5/2.0. Average score (0.2)\n",
            "Win/lose count 0.5/0. Average score (0.21875)\n",
            "Win/lose count 0.5/0. Average score (0.23529411764705882)\n",
            "Win/lose count 0/2.0. Average score (0.1111111111111111)\n",
            "Win/lose count 1.0/1.0. Average score (0.10526315789473684)\n",
            "Win/lose count 1.0/0. Average score (0.15)\n",
            "Win/lose count 0.5/1.0. Average score (0.11904761904761904)\n",
            "Win/lose count 1.0/0. Average score (0.1590909090909091)\n",
            "Win/lose count 0/4.0. Average score (-0.021739130434782608)\n",
            "Win/lose count 1.5/2.0. Average score (-0.041666666666666664)\n",
            "Win/lose count 0.5/1.0. Average score (-0.06)\n",
            "Win/lose count 0.5/0. Average score (-0.038461538461538464)\n",
            "Win/lose count 0/0. Average score (-0.037037037037037035)\n",
            "Win/lose count 0.5/0. Average score (-0.017857142857142856)\n",
            "Win/lose count 0/1.0. Average score (-0.05172413793103448)\n",
            "Win/lose count 0.5/1.0. Average score (-0.06666666666666667)\n",
            "Win/lose count 0/1.0. Average score (-0.0967741935483871)\n",
            "Win/lose count 0/2.0. Average score (-0.15625)\n",
            "Win/lose count 0.5/0. Average score (-0.13636363636363635)\n",
            "Final score: -0.13636363636363635\n"
          ],
          "name": "stdout"
        }
      ]
    },
    {
      "metadata": {
        "id": "8Ve-cvKGHwrD",
        "colab_type": "code",
        "colab": {
          "base_uri": "https://localhost:8080/",
          "height": 292
        },
        "outputId": "9601fed1-3885-4d6a-84b7-c3200e19298d"
      },
      "cell_type": "code",
      "source": [
        "HTML(display_videos('cnn_test10.mp4'))"
      ],
      "execution_count": 44,
      "outputs": [
        {
          "output_type": "execute_result",
          "data": {
            "text/html": [
              "<video alt=\"test\" controls>\n",
              "                <source src=\"data:video/mp4;base64,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\" type=\"video/mp4\" />\n",
              "             </video>"
            ],
            "text/plain": [
              "<IPython.core.display.HTML object>"
            ]
          },
          "metadata": {
            "tags": []
          },
          "execution_count": 44
        }
      ]
    },
    {
      "metadata": {
        "id": "U70v_eegHwrF",
        "colab_type": "code",
        "colab": {
          "base_uri": "https://localhost:8080/",
          "height": 292
        },
        "outputId": "20406e00-9037-4201-a9f5-35644e0265b6"
      },
      "cell_type": "code",
      "source": [
        "HTML(display_videos('fc_test10.mp4'))"
      ],
      "execution_count": 45,
      "outputs": [
        {
          "output_type": "execute_result",
          "data": {
            "text/html": [
              "<video alt=\"test\" controls>\n",
              "                <source src=\"data:video/mp4;base64,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\" type=\"video/mp4\" />\n",
              "             </video>"
            ],
            "text/plain": [
              "<IPython.core.display.HTML object>"
            ]
          },
          "metadata": {
            "tags": []
          },
          "execution_count": 45
        }
      ]
    },
    {
      "metadata": {
        "id": "gP4tPoTFHwrI",
        "colab_type": "text"
      },
      "cell_type": "markdown",
      "source": [
        "The performance of CNN is much better than the performance of FC. When increasing the temperature to 0.5, the performance of CNN is better, the performance of FC is almost the same as before. When decreasing the temperature to 0.1, the performance of CNN is much worse and the FC is still low no matter what the temperature is. When playing the video, I observe that the rat keeps move within the area which is already explored, it seems that the algorithm faces some problems."
      ]
    },
    {
      "metadata": {
        "id": "Duq29pPaHwrJ",
        "colab_type": "text"
      },
      "cell_type": "markdown",
      "source": [
        "***\n",
        "\n",
        "The algorithm tends to not explore the map which can be an issue. We propose two ideas in order to encourage exploration:\n",
        "1. Incorporating a decreasing $\\epsilon$-greedy exploration. You can use the method ```set_epsilon```\n",
        "2. Append via the environment a new state that describes if a cell has been visited or not\n",
        "\n",
        "***\n",
        "__Question 10__ Design a new ```train_explore``` function and environment class ```EnvironmentExploring``` to tackle the issue of exploration.\n",
        "\n"
      ]
    },
    {
      "metadata": {
        "id": "eJVPhdv7HwrK",
        "colab_type": "code",
        "colab": {}
      },
      "cell_type": "code",
      "source": [
        "def train_explore(agent,env,epoch,prefix=''):\n",
        "    # Number of won games\n",
        "    score = 0\n",
        "    loss = 0\n",
        "\n",
        "    for e in range(epoch):\n",
        "        # At each epoch, we restart to a fresh game and get the initial state\n",
        "        state = env.reset()\n",
        "        # This assumes that the games will terminate\n",
        "        game_over = False\n",
        "\n",
        "        win = 0\n",
        "        lose = 0\n",
        "\n",
        "        while not game_over:\n",
        "            # The agent performs an action\n",
        "            action = agent.act(state)\n",
        "\n",
        "            # Apply an action to the environment, get the next state, the reward\n",
        "            # and if the games end\n",
        "            prev_state = state\n",
        "            state, reward, game_over = env.act(action, train=True)\n",
        "\n",
        "            # Update the counters\n",
        "            if reward > 0:\n",
        "                win = win + reward\n",
        "            if reward < 0:\n",
        "                lose = lose -reward\n",
        "\n",
        "            # Apply the reinforcement strategy\n",
        "            loss = agent.reinforce(prev_state, state,  action, reward, game_over)\n",
        "\n",
        "        # Save as a mp4\n",
        "        if e % 10 == 0:\n",
        "            env.draw(prefix+str(e))\n",
        "\n",
        "        # Update stats\n",
        "        score += win-lose\n",
        "\n",
        "        print(\"Epoch {:03d}/{:03d} | Loss {:.4f} | Win/lose count {}/{} ({})\"\n",
        "              .format(e, epoch, loss, win, lose, win-lose))\n",
        "        agent.save(name_weights=prefix+'model.h5',name_model=prefix+'model.json')\n",
        "        \n",
        "class EnvironmentExploring(object):\n",
        "    def __init__(self, grid_size=10, max_time=500, temperature=0.1, weight_visited = .1):\n",
        "        grid_size = grid_size+4\n",
        "        self.grid_size = grid_size\n",
        "        self.max_time = max_time\n",
        "        self.temperature = temperature\n",
        "        self.weight_visited = weight_visited\n",
        "\n",
        "        #board on which one plays\n",
        "        self.board = np.zeros((grid_size,grid_size))\n",
        "        self.position = np.zeros((grid_size,grid_size))\n",
        "        self.visited = np.zeros((grid_size,grid_size))\n",
        "        \n",
        "        # coordinate of the cat\n",
        "        self.x = 0\n",
        "        self.y = 1\n",
        "\n",
        "        # self time\n",
        "        self.t = 0\n",
        "\n",
        "        self.scale=16\n",
        "\n",
        "        self.to_draw = np.zeros((max_time+2, grid_size*self.scale, grid_size*self.scale, 3))\n",
        "\n",
        "\n",
        "    def draw(self,e):\n",
        "        skvideo.io.vwrite(str(e) + '.mp4', self.to_draw)\n",
        "\n",
        "    def get_frame(self,t):\n",
        "        b = np.zeros((self.grid_size,self.grid_size,3))+128\n",
        "        b[self.board>0,0] = 256\n",
        "        b[self.board < 0, 2] = 256\n",
        "        b[self.x,self.y,:]=256\n",
        "        b[-2:,:,:]=0\n",
        "        b[:,-2:,:]=0\n",
        "        b[:2,:,:]=0\n",
        "        b[:,:2,:]=0\n",
        "        \n",
        "        b =  cv2.resize(b, None, fx=self.scale, fy=self.scale, interpolation=cv2.INTER_NEAREST)\n",
        "\n",
        "        self.to_draw[t,:,:,:]=b\n",
        "\n",
        "\n",
        "    def act(self, action, train = True):\n",
        "        \"\"\"This function returns the new state, reward and decides if the\n",
        "        game ends.\"\"\"\n",
        "\n",
        "        self.get_frame(int(self.t))\n",
        "\n",
        "        self.position = np.zeros((self.grid_size, self.grid_size))\n",
        "\n",
        "        self.position[0:2,:]= -1\n",
        "        self.position[:,0:2] = -1\n",
        "        self.position[-2:, :] = -1\n",
        "        self.position[-2:, :] = -1\n",
        "\n",
        "        self.position[self.x, self.y] = 1\n",
        "        if action == 0:\n",
        "            if self.x == self.grid_size-3:\n",
        "                self.x = self.x-1\n",
        "            else:\n",
        "                self.x = self.x + 1\n",
        "        elif action == 1:\n",
        "            if self.x == 2:\n",
        "                self.x = self.x+1\n",
        "            else:\n",
        "                self.x = self.x-1\n",
        "        elif action == 2:\n",
        "            if self.y == self.grid_size - 3:\n",
        "                self.y = self.y - 1\n",
        "            else:\n",
        "                self.y = self.y + 1\n",
        "        elif action == 3:\n",
        "            if self.y == 2:\n",
        "                self.y = self.y + 1\n",
        "            else:\n",
        "                self.y = self.y - 1\n",
        "        else:\n",
        "            RuntimeError('Error: action not recognized')\n",
        "            \n",
        "        self.t = self.t + 1\n",
        "        reward = self.board[self.x, self.y]\n",
        "        if train:reward -= self.weight_visited * self.visited[self.x, self.y]\n",
        "        \n",
        "        self.visited[self.x, self.y] = 1.\n",
        "        self.board[self.x, self.y] = 0\n",
        "        game_over = self.t > self.max_time\n",
        "        state = np.concatenate((self.board.reshape(self.grid_size, self.grid_size,1),\n",
        "                                self.position.reshape(self.grid_size, self.grid_size,1),\n",
        "                                self.visited.reshape(self.grid_size, self.grid_size,1)), axis=2)\n",
        "        state = state[self.x-2:self.x+3,self.y-2:self.y+3,:]\n",
        "\n",
        "        return state, reward, game_over\n",
        "\n",
        "    def reset(self):\n",
        "        \"\"\"This function resets the game and returns the initial state\"\"\"\n",
        "\n",
        "        self.x = np.random.randint(3, self.grid_size-3, size=1)[0]\n",
        "        self.y = np.random.randint(3, self.grid_size-3, size=1)[0]\n",
        "\n",
        "\n",
        "        bonus = 0.5*np.random.binomial(1,self.temperature,size=self.grid_size**2)\n",
        "        bonus = bonus.reshape(self.grid_size,self.grid_size)\n",
        "\n",
        "        malus = -1.0*np.random.binomial(1,self.temperature,size=self.grid_size**2)\n",
        "        malus = malus.reshape(self.grid_size, self.grid_size)\n",
        "\n",
        "        self.to_draw = np.zeros((self.max_time+2, self.grid_size*self.scale, self.grid_size*self.scale, 3))\n",
        "\n",
        "\n",
        "        malus[bonus>0]=0\n",
        "\n",
        "        self.board = bonus + malus\n",
        "        self.visited = np.zeros((self.grid_size, self.grid_size))\n",
        "        self.position = np.zeros((self.grid_size, self.grid_size))\n",
        "        self.position[0:2,:]= -1\n",
        "        self.position[:,0:2] = -1\n",
        "        self.position[-2:, :] = -1\n",
        "        self.position[-2:, :] = -1\n",
        "        self.board[self.x,self.y] = 0\n",
        "        self.t = 0\n",
        "\n",
        "        state = np.concatenate((self.board.reshape(self.grid_size, self.grid_size,1),\n",
        "                                self.position.reshape(self.grid_size, self.grid_size,1),\n",
        "                                self.visited.reshape(self.grid_size, self.grid_size,1)), axis=2)\n",
        "\n",
        "        state = state[self.x - 2:self.x + 3, self.y - 2:self.y + 3, :]\n",
        "        return state"
      ],
      "execution_count": 0,
      "outputs": []
    },
    {
      "metadata": {
        "id": "-aa6wFyGHwrN",
        "colab_type": "code",
        "colab": {
          "base_uri": "https://localhost:8080/",
          "height": 2042
        },
        "outputId": "05b804b0-e7e5-411d-f05d-69f1e1c893d4"
      },
      "cell_type": "code",
      "source": [
        "# Training\n",
        "env = EnvironmentExploring(grid_size=size, max_time=T, temperature=0.3)\n",
        "agent = DQN_CNN(size, lr=.1, epsilon = 0.1, memory_size=2000, batch_size = 32,n_state=3)\n",
        "train_explore(agent, env, epochs_train, prefix='cnn_train_explore')\n",
        "HTML(display_videos('cnn_train_explore10.mp4'))"
      ],
      "execution_count": 49,
      "outputs": [
        {
          "output_type": "stream",
          "text": [
            "Epoch 000/100 | Loss 0.0059 | Win/lose count 6.0/22.600000000000044 (-16.600000000000044)\n",
            "Epoch 001/100 | Loss 0.0030 | Win/lose count 10.0/21.10000000000004 (-11.10000000000004)\n",
            "Epoch 002/100 | Loss 0.0201 | Win/lose count 14.0/21.60000000000004 (-7.6000000000000405)\n",
            "Epoch 003/100 | Loss 0.0146 | Win/lose count 8.0/19.800000000000008 (-11.800000000000008)\n",
            "Epoch 004/100 | Loss 0.0152 | Win/lose count 13.0/19.90000000000002 (-6.90000000000002)\n",
            "Epoch 005/100 | Loss 0.0288 | Win/lose count 14.0/18.199999999999985 (-4.199999999999985)\n",
            "Epoch 006/100 | Loss 0.0120 | Win/lose count 11.0/15.799999999999963 (-4.799999999999963)\n",
            "Epoch 007/100 | Loss 0.0056 | Win/lose count 15.0/18.099999999999998 (-3.099999999999998)\n",
            "Epoch 008/100 | Loss 0.0042 | Win/lose count 15.5/17.099999999999987 (-1.5999999999999872)\n",
            "Epoch 009/100 | Loss 0.0060 | Win/lose count 6.5/20.800000000000036 (-14.300000000000036)\n",
            "Epoch 010/100 | Loss 0.0135 | Win/lose count 22.0/14.999999999999972 (7.000000000000028)\n",
            "Epoch 011/100 | Loss 0.0227 | Win/lose count 20.5/13.399999999999979 (7.100000000000021)\n",
            "Epoch 012/100 | Loss 0.0081 | Win/lose count 19.0/15.099999999999973 (3.900000000000027)\n",
            "Epoch 013/100 | Loss 0.0059 | Win/lose count 11.0/15.399999999999965 (-4.399999999999965)\n",
            "Epoch 014/100 | Loss 0.0147 | Win/lose count 23.0/13.199999999999973 (9.800000000000027)\n",
            "Epoch 015/100 | Loss 0.0123 | Win/lose count 18.5/17.49999999999999 (1.0000000000000107)\n",
            "Epoch 016/100 | Loss 0.0113 | Win/lose count 21.5/15.899999999999974 (5.600000000000026)\n",
            "Epoch 017/100 | Loss 0.0092 | Win/lose count 21.5/14.69999999999997 (6.800000000000029)\n",
            "Epoch 018/100 | Loss 0.0118 | Win/lose count 17.0/15.699999999999966 (1.3000000000000345)\n",
            "Epoch 019/100 | Loss 0.0411 | Win/lose count 20.5/17.299999999999972 (3.2000000000000277)\n",
            "Epoch 020/100 | Loss 0.0307 | Win/lose count 21.0/18.60000000000002 (2.399999999999981)\n",
            "Epoch 021/100 | Loss 0.0111 | Win/lose count 21.5/15.399999999999975 (6.1000000000000245)\n",
            "Epoch 022/100 | Loss 0.0131 | Win/lose count 17.0/18.999999999999996 (-1.9999999999999964)\n",
            "Epoch 023/100 | Loss 0.0088 | Win/lose count 21.5/11.999999999999975 (9.500000000000025)\n",
            "Epoch 024/100 | Loss 0.0061 | Win/lose count 12.0/17.299999999999983 (-5.299999999999983)\n",
            "Epoch 025/100 | Loss 0.0063 | Win/lose count 22.5/16.399999999999977 (6.100000000000023)\n",
            "Epoch 026/100 | Loss 0.0108 | Win/lose count 11.5/21.100000000000037 (-9.600000000000037)\n",
            "Epoch 027/100 | Loss 0.0088 | Win/lose count 9.5/20.700000000000028 (-11.200000000000028)\n",
            "Epoch 028/100 | Loss 0.0188 | Win/lose count 16.5/15.09999999999997 (1.4000000000000306)\n",
            "Epoch 029/100 | Loss 0.0052 | Win/lose count 18.0/17.59999999999997 (0.40000000000003055)\n",
            "Epoch 030/100 | Loss 0.0058 | Win/lose count 21.5/13.499999999999972 (8.000000000000028)\n",
            "Epoch 031/100 | Loss 0.0117 | Win/lose count 16.0/14.799999999999963 (1.2000000000000366)\n",
            "Epoch 032/100 | Loss 0.0198 | Win/lose count 13.5/16.999999999999986 (-3.499999999999986)\n",
            "Epoch 033/100 | Loss 0.0128 | Win/lose count 24.0/13.699999999999974 (10.300000000000026)\n",
            "Epoch 034/100 | Loss 0.0179 | Win/lose count 19.5/14.199999999999973 (5.300000000000027)\n",
            "Epoch 035/100 | Loss 0.0107 | Win/lose count 19.5/14.399999999999983 (5.100000000000017)\n",
            "Epoch 036/100 | Loss 0.0057 | Win/lose count 16.0/14.899999999999974 (1.1000000000000263)\n",
            "Epoch 037/100 | Loss 0.0100 | Win/lose count 15.0/18.600000000000016 (-3.6000000000000156)\n",
            "Epoch 038/100 | Loss 0.0097 | Win/lose count 20.0/16.399999999999977 (3.6000000000000227)\n",
            "Epoch 039/100 | Loss 0.0117 | Win/lose count 17.5/16.399999999999977 (1.1000000000000227)\n",
            "Epoch 040/100 | Loss 0.0107 | Win/lose count 22.0/12.699999999999978 (9.300000000000022)\n",
            "Epoch 041/100 | Loss 0.0069 | Win/lose count 18.5/14.399999999999968 (4.100000000000032)\n",
            "Epoch 042/100 | Loss 0.0527 | Win/lose count 20.5/17.699999999999992 (2.800000000000008)\n",
            "Epoch 043/100 | Loss 0.0096 | Win/lose count 16.5/17.499999999999993 (-0.9999999999999929)\n",
            "Epoch 044/100 | Loss 0.0246 | Win/lose count 13.0/14.299999999999965 (-1.2999999999999652)\n",
            "Epoch 045/100 | Loss 0.0084 | Win/lose count 24.0/10.09999999999998 (13.90000000000002)\n",
            "Epoch 046/100 | Loss 0.0236 | Win/lose count 17.5/17.399999999999974 (0.10000000000002629)\n",
            "Epoch 047/100 | Loss 0.0170 | Win/lose count 22.0/14.899999999999968 (7.100000000000032)\n",
            "Epoch 048/100 | Loss 0.0114 | Win/lose count 27.0/16.499999999999982 (10.500000000000018)\n",
            "Epoch 049/100 | Loss 0.0065 | Win/lose count 18.5/15.699999999999967 (2.8000000000000327)\n",
            "Epoch 050/100 | Loss 0.0329 | Win/lose count 17.5/16.499999999999975 (1.0000000000000249)\n",
            "Epoch 051/100 | Loss 0.0121 | Win/lose count 17.5/15.199999999999969 (2.300000000000031)\n",
            "Epoch 052/100 | Loss 0.0101 | Win/lose count 17.5/13.499999999999972 (4.000000000000028)\n",
            "Epoch 053/100 | Loss 0.0231 | Win/lose count 20.5/15.599999999999973 (4.900000000000027)\n",
            "Epoch 054/100 | Loss 0.0134 | Win/lose count 19.5/19.100000000000023 (0.39999999999997726)\n",
            "Epoch 055/100 | Loss 0.0101 | Win/lose count 20.0/15.899999999999967 (4.100000000000033)\n",
            "Epoch 056/100 | Loss 0.0160 | Win/lose count 21.0/14.699999999999976 (6.300000000000024)\n",
            "Epoch 057/100 | Loss 0.0153 | Win/lose count 19.5/15.599999999999964 (3.900000000000036)\n",
            "Epoch 058/100 | Loss 0.0128 | Win/lose count 17.0/13.299999999999969 (3.7000000000000313)\n",
            "Epoch 059/100 | Loss 0.0108 | Win/lose count 22.5/16.399999999999974 (6.100000000000026)\n",
            "Epoch 060/100 | Loss 0.0120 | Win/lose count 13.0/16.599999999999973 (-3.599999999999973)\n",
            "Epoch 061/100 | Loss 0.0085 | Win/lose count 19.0/18.4 (0.6000000000000014)\n",
            "Epoch 062/100 | Loss 0.0135 | Win/lose count 21.5/14.29999999999998 (7.200000000000021)\n",
            "Epoch 063/100 | Loss 0.0067 | Win/lose count 18.0/14.399999999999968 (3.6000000000000316)\n",
            "Epoch 064/100 | Loss 0.0124 | Win/lose count 18.0/15.09999999999997 (2.9000000000000306)\n",
            "Epoch 065/100 | Loss 0.0080 | Win/lose count 14.5/16.89999999999998 (-2.399999999999981)\n",
            "Epoch 066/100 | Loss 0.0059 | Win/lose count 25.0/13.499999999999982 (11.500000000000018)\n",
            "Epoch 067/100 | Loss 0.0093 | Win/lose count 20.0/14.799999999999974 (5.200000000000026)\n",
            "Epoch 068/100 | Loss 0.0596 | Win/lose count 19.0/18.49999999999999 (0.5000000000000107)\n",
            "Epoch 069/100 | Loss 0.0158 | Win/lose count 27.5/15.499999999999972 (12.000000000000028)\n",
            "Epoch 070/100 | Loss 0.0101 | Win/lose count 15.0/19.10000000000001 (-4.1000000000000085)\n",
            "Epoch 071/100 | Loss 0.0312 | Win/lose count 20.0/15.899999999999972 (4.100000000000028)\n",
            "Epoch 072/100 | Loss 0.0172 | Win/lose count 16.0/14.499999999999968 (1.500000000000032)\n",
            "Epoch 073/100 | Loss 0.0074 | Win/lose count 27.0/15.499999999999977 (11.500000000000023)\n",
            "Epoch 074/100 | Loss 0.0105 | Win/lose count 23.0/18.6 (4.399999999999999)\n",
            "Epoch 075/100 | Loss 0.0072 | Win/lose count 19.5/14.399999999999963 (5.100000000000037)\n",
            "Epoch 076/100 | Loss 0.0224 | Win/lose count 24.0/13.299999999999976 (10.700000000000024)\n",
            "Epoch 077/100 | Loss 0.0209 | Win/lose count 18.5/13.49999999999997 (5.00000000000003)\n",
            "Epoch 078/100 | Loss 0.0109 | Win/lose count 20.5/13.799999999999978 (6.700000000000022)\n",
            "Epoch 079/100 | Loss 0.0091 | Win/lose count 28.0/18.800000000000022 (9.199999999999978)\n",
            "Epoch 080/100 | Loss 0.0081 | Win/lose count 23.0/15.499999999999975 (7.500000000000025)\n",
            "Epoch 081/100 | Loss 0.0056 | Win/lose count 20.5/14.69999999999997 (5.800000000000029)\n",
            "Epoch 082/100 | Loss 0.0061 | Win/lose count 26.0/16.499999999999986 (9.500000000000014)\n",
            "Epoch 083/100 | Loss 0.0056 | Win/lose count 18.5/13.399999999999974 (5.100000000000026)\n",
            "Epoch 084/100 | Loss 0.0703 | Win/lose count 20.0/12.499999999999975 (7.500000000000025)\n",
            "Epoch 085/100 | Loss 0.0241 | Win/lose count 18.0/16.09999999999997 (1.9000000000000306)\n",
            "Epoch 086/100 | Loss 0.0314 | Win/lose count 17.5/15.999999999999973 (1.5000000000000266)\n",
            "Epoch 087/100 | Loss 0.0127 | Win/lose count 17.0/15.999999999999966 (1.0000000000000338)\n",
            "Epoch 088/100 | Loss 0.0099 | Win/lose count 22.5/15.899999999999968 (6.600000000000032)\n",
            "Epoch 089/100 | Loss 0.0113 | Win/lose count 23.5/15.599999999999971 (7.900000000000029)\n",
            "Epoch 090/100 | Loss 0.0100 | Win/lose count 20.5/13.099999999999977 (7.4000000000000234)\n",
            "Epoch 091/100 | Loss 0.0226 | Win/lose count 21.5/13.099999999999968 (8.400000000000032)\n",
            "Epoch 092/100 | Loss 0.0086 | Win/lose count 18.0/15.299999999999974 (2.700000000000026)\n",
            "Epoch 093/100 | Loss 0.0251 | Win/lose count 17.0/16.599999999999973 (0.400000000000027)\n",
            "Epoch 094/100 | Loss 0.0062 | Win/lose count 15.5/17.699999999999985 (-2.199999999999985)\n",
            "Epoch 095/100 | Loss 0.0207 | Win/lose count 22.0/15.499999999999973 (6.500000000000027)\n",
            "Epoch 096/100 | Loss 0.0197 | Win/lose count 20.0/14.699999999999976 (5.300000000000024)\n",
            "Epoch 097/100 | Loss 0.0206 | Win/lose count 20.5/14.099999999999973 (6.400000000000027)\n",
            "Epoch 098/100 | Loss 0.0354 | Win/lose count 25.0/15.799999999999974 (9.200000000000026)\n",
            "Epoch 099/100 | Loss 0.0481 | Win/lose count 17.0/14.899999999999967 (2.1000000000000334)\n"
          ],
          "name": "stdout"
        },
        {
          "output_type": "execute_result",
          "data": {
            "text/html": [
              "<video alt=\"test\" controls>\n",
              "                <source src=\"data:video/mp4;base64,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\" type=\"video/mp4\" />\n",
              "             </video>"
            ],
            "text/plain": [
              "<IPython.core.display.HTML object>"
            ]
          },
          "metadata": {
            "tags": []
          },
          "execution_count": 49
        }
      ]
    },
    {
      "metadata": {
        "id": "feUffTQ2HwrQ",
        "colab_type": "code",
        "colab": {
          "base_uri": "https://localhost:8080/",
          "height": 764
        },
        "outputId": "cdf31ae7-93e2-4776-8e21-110549719fa0"
      },
      "cell_type": "code",
      "source": [
        "# Evaluation\n",
        "test(agent,env,epochs_test,prefix='cnn_test_explore')\n",
        "HTML(display_videos('cnn_test_explore10.mp4'))"
      ],
      "execution_count": 50,
      "outputs": [
        {
          "output_type": "stream",
          "text": [
            "Win/lose count 18.5/12.499999999999972. Average score (6.000000000000028)\n",
            "Win/lose count 5.5/17.799999999999983. Average score (-3.1499999999999773)\n",
            "Win/lose count 14.0/14.499999999999964. Average score (-2.2666666666666395)\n",
            "Win/lose count 9.0/16.89999999999997. Average score (-3.6749999999999723)\n",
            "Win/lose count 4.5/19.600000000000012. Average score (-5.95999999999998)\n",
            "Win/lose count 4.5/18.29999999999999. Average score (-7.266666666666649)\n",
            "Win/lose count 13.5/15.59999999999996. Average score (-6.528571428571408)\n",
            "Win/lose count 4.0/19.200000000000003. Average score (-7.612499999999982)\n",
            "Win/lose count 11.5/16.899999999999974. Average score (-7.366666666666648)\n",
            "Win/lose count 13.0/14.599999999999964. Average score (-6.78999999999998)\n",
            "Win/lose count 13.0/15.999999999999961. Average score (-6.445454545454523)\n",
            "Win/lose count 16.0/13.09999999999997. Average score (-5.666666666666643)\n",
            "Win/lose count 10.5/15.59999999999996. Average score (-5.623076923076899)\n",
            "Win/lose count 19.0/12.599999999999971. Average score (-4.764285714285689)\n",
            "Win/lose count 9.0/15.499999999999961. Average score (-4.879999999999973)\n",
            "Win/lose count 10.0/15.69999999999996. Average score (-4.931249999999973)\n",
            "Win/lose count 6.0/17.69999999999998. Average score (-5.329411764705855)\n",
            "Win/lose count 15.5/15.499999999999961. Average score (-5.033333333333306)\n",
            "Win/lose count 20.0/12.199999999999973. Average score (-4.357894736842077)\n",
            "Win/lose count 12.0/16.899999999999974. Average score (-4.384999999999972)\n",
            "Win/lose count 9.5/16.79999999999997. Average score (-4.523809523809496)\n",
            "Win/lose count 16.0/12.599999999999971. Average score (-4.163636363636336)\n",
            "Win/lose count 23.5/11.299999999999976. Average score (-3.45217391304345)\n",
            "Win/lose count 9.5/17.199999999999974. Average score (-3.6291666666666385)\n",
            "Win/lose count 19.0/13.899999999999967. Average score (-3.2799999999999714)\n",
            "Win/lose count 3.5/18.699999999999996. Average score (-3.7384615384615105)\n",
            "Win/lose count 5.5/17.299999999999976. Average score (-4.03703703703701)\n",
            "Win/lose count 5.0/19.100000000000005. Average score (-4.396428571428546)\n",
            "Win/lose count 12.5/15.79999999999996. Average score (-4.358620689655146)\n",
            "Win/lose count 4.5/17.69999999999998. Average score (-4.653333333333307)\n",
            "Win/lose count 5.5/18.099999999999987. Average score (-4.9096774193548125)\n",
            "Win/lose count 12.0/15.59999999999996. Average score (-4.868749999999974)\n",
            "Win/lose count 4.0/19.200000000000003. Average score (-5.181818181818156)\n",
            "Final score: -5.181818181818156\n"
          ],
          "name": "stdout"
        },
        {
          "output_type": "execute_result",
          "data": {
            "text/html": [
              "<video alt=\"test\" controls>\n",
              "                <source src=\"data:video/mp4;base64,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\" type=\"video/mp4\" />\n",
              "             </video>"
            ],
            "text/plain": [
              "<IPython.core.display.HTML object>"
            ]
          },
          "metadata": {
            "tags": []
          },
          "execution_count": 50
        }
      ]
    },
    {
      "metadata": {
        "id": "w0JUFOsJHwrS",
        "colab_type": "text"
      },
      "cell_type": "markdown",
      "source": [
        "***\n",
        "***\n",
        "__BONUS question__ Use the expert DQN from the previous question to generate some winning games. Train a model that mimicks its behavior. Compare the performances."
      ]
    },
    {
      "metadata": {
        "id": "AiqfbT3sHwrT",
        "colab_type": "text"
      },
      "cell_type": "markdown",
      "source": [
        ""
      ]
    },
    {
      "metadata": {
        "id": "vSWu5ZEhHwrU",
        "colab_type": "text"
      },
      "cell_type": "markdown",
      "source": [
        "***"
      ]
    }
  ]
}